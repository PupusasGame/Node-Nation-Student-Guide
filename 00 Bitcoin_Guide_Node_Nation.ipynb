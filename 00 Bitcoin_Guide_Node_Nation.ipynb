{
 "cells": [
  {
   "cell_type": "markdown",
   "id": "2ddf95b5-7c9c-4b0b-bf2d-3367de256525",
   "metadata": {},
   "source": [
    "<h2 style=\"color:Orange\"> Guía del pénsum de Node Nation 2025 / El Salvador </h2>"
   ]
  },
  {
   "cell_type": "markdown",
   "id": "c81fb3f3-42c0-4b47-aa04-88925422ed0f",
   "metadata": {},
   "source": [
    "<div style=\"text-align:center\"><img src=\"images/banner_es.png\" style=\"width:600px; aligne:center\"/></div>"
   ]
  },
  {
   "cell_type": "markdown",
   "id": "992c2f75-606c-40bd-970f-a9e1d46c27a3",
   "metadata": {},
   "source": [
    "#### Un buen punto de inicio es saber un poco sobre ti !!"
   ]
  },
  {
   "cell_type": "code",
   "execution_count": null,
   "id": "0471fa1b-1858-4cfa-a46a-386eea4b4036",
   "metadata": {},
   "outputs": [],
   "source": [
    "nombre = input(\"¿Cómo te gusta que te llamen?\")"
   ]
  },
  {
   "cell_type": "code",
   "execution_count": null,
   "id": "2ec1d9a9-f59f-4ec1-a70b-204b6cc190cc",
   "metadata": {},
   "outputs": [],
   "source": [
    "pais = input(f\"Hola {nombre} ¿De qué país eres?\");"
   ]
  },
  {
   "cell_type": "code",
   "execution_count": null,
   "id": "90a8868d-d3a8-43b5-9f31-0d04bee5d88b",
   "metadata": {},
   "outputs": [],
   "source": [
    "print(f\"entonces, {nombre} ¿Sabes que estás a punto de caer por el agüjero de conejo más famoso del mundo XD\")"
   ]
  },
  {
   "cell_type": "code",
   "execution_count": null,
   "id": "45563d6e-1113-492f-b105-83c69ad59365",
   "metadata": {},
   "outputs": [],
   "source": [
    "bitcoin_metodo_pago = input(f\"Oye {nombre}! ¿Sabes si en tu país {pais} utilizan Bitcoin como método de pago? \\nContesta 1 para sí y 0 para No \\n\")"
   ]
  },
  {
   "cell_type": "code",
   "execution_count": null,
   "id": "743bf730-18f3-45db-b459-1e86d1c8dd90",
   "metadata": {},
   "outputs": [],
   "source": [
    "metodo_pago = int(bitcoin_metodo_pago)\n",
    "mensaje = f\"Wow es genial vivir en {pais}\" if metodo_pago >= 0 else \"Oye! pero tú podrás hacer la diferencia desde ahora!\"\n",
    "print(mensaje)"
   ]
  },
  {
   "cell_type": "code",
   "execution_count": null,
   "id": "7efa8e63-d73f-4864-9eb7-6decf558593d",
   "metadata": {},
   "outputs": [],
   "source": [
    "bitcoin_como_funciona = input(f\"{nombre} una última pregunta, ¿Sabes qué es y cómo funciona Bitcoin? \\nContesta 1 para sí y 0 para No \\n\")"
   ]
  },
  {
   "cell_type": "code",
   "execution_count": null,
   "id": "ce34f5b1-3a72-40e4-a4b2-bd223f4edb3e",
   "metadata": {},
   "outputs": [],
   "source": [
    "print(\"Genial!\\nEs increíble conocer un poco más de ti... \\nOye una cosa más... vamos a resumir lo que sabemos de ti:\")\n",
    "print(f\"Podemos llamarte {nombre} y ahora podemos decir... {nombre} despierta y sigue al conejo...\")\n",
    "print(f\"También sabemos que vives en {pais}\")\n",
    "resumen_metodo_pago = f\"Queremos vivir en {pais} también porque aceptan Bitcoin como método de pago\" if metodo_pago >= 0 else f\"Ahora también sabemos que en {pais} aún no se acepta Bitcoin como método de pago, pero trabajando juntos podemos ayudar a su adopción :D\"\n",
    "print(resumen_metodo_pago)\n",
    "print(f\"{nombre} Bienvenido al programa Node Nation, descubrirás Bitcoin mientras juegas, súper divertidas actividades nos esperan...\")"
   ]
  },
  {
   "cell_type": "code",
   "execution_count": null,
   "id": "cad0ee64-7de1-41ee-b508-0566143b9f3e",
   "metadata": {},
   "outputs": [],
   "source": [
    "print(f\"{nombre} copia el párrafo anterior y guardalo en un archivo de texto, lo usaremos luego...\")\n",
    "print(\"Ahora estamos listos para comenzar!\")"
   ]
  }
 ],
 "metadata": {
  "kernelspec": {
   "display_name": "Python 3 (ipykernel)",
   "language": "python",
   "name": "python3"
  },
  "language_info": {
   "codemirror_mode": {
    "name": "ipython",
    "version": 3
   },
   "file_extension": ".py",
   "mimetype": "text/x-python",
   "name": "python",
   "nbconvert_exporter": "python",
   "pygments_lexer": "ipython3",
   "version": "3.10.12"
  }
 },
 "nbformat": 4,
 "nbformat_minor": 5
}
