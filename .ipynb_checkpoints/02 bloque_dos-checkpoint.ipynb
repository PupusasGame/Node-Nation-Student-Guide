{
 "cells": [
  {
   "cell_type": "markdown",
   "id": "9922462b-1a19-4024-8610-d80f2901bf4b",
   "metadata": {},
   "source": [
    "<h2 style=\"color:cyan\"> Transacciones en Bitcoin </h2>"
   ]
  },
  {
   "cell_type": "markdown",
   "id": "cddee1ea-9725-4012-9c3c-104c5e350a80",
   "metadata": {},
   "source": [
    "<img src=\"images/bloque_dos/bloque_dos_banner.png\" style=\"width:600px;\"/>"
   ]
  },
  {
   "cell_type": "markdown",
   "id": "ca989669-588b-42f1-9521-167014c262b7",
   "metadata": {},
   "source": [
    "#### Este bloque nos enseñará sobre transacciones de Bitcoin y los bloques de transacciones donde son apiladas muchas transacciones"
   ]
  },
  {
   "cell_type": "markdown",
   "id": "607ed577-b35d-44d6-be70-794570762157",
   "metadata": {},
   "source": [
    "Cuando un usuario envía una cantidad de bitcoin a otro usuario, lo llamamos transacción, cada transacción debe ser firmada con la llave privada del emisor y enviada a una dirección bitcoin derivada de la llave pública del destinatario."
   ]
  },
  {
   "cell_type": "markdown",
   "id": "de9edfeb-9e1f-4fbe-b924-5f07010b3edc",
   "metadata": {},
   "source": [
    "***Una transacción***\n",
    "Para mantener simples las cosas, una transacción contiene información sobre:\n",
    "\n",
    "    -Cuánto dinero se envía.\n",
    "    -La cuenta desde donde se envía. (billetera Bitcoin, UTXO)\n",
    "    -La cuenta a donde se envía. (dirección Bitcoin)\n",
    "\n",
    "Cuando \"realizas una transacción\", simplemente envías estos datos de transacción a la red de Bitcoin, para ser guardada en un espacio especial llamado *mempool.*\n",
    "\n",
    "**Nota:** La dirección bitcoin P2WPKH (pay to witness public key hash) es una codificación Bech32 de la clave hexadecimal completa de ScriptPubKey el cual contiene el hash de la clave pública. La dirección bitcoin siempre tiene 42 caracteres, lo que ayuda a distinguirla de una dirección P2WSH de aspecto similar.\n",
    "\n",
    "    Ejemplo de dirección bitcoin p2wpkh: bc1q3dmd2p7a7drp04uzru4226manq9hlsx74f5c4s"
   ]
  },
  {
   "cell_type": "markdown",
   "id": "8247a08f-2d25-4f18-a040-db2136164f1c",
   "metadata": {},
   "source": [
    "<h3 style=\"color:orange\"> Veamos un poco más la parte técnica del contenido de una transacción:</h3>"
   ]
  },
  {
   "cell_type": "markdown",
   "id": "9e05cbd4-ec59-4cb2-ad24-f44523789eb8",
   "metadata": {},
   "source": [
    "**Versión**\t4 bytes\t| Número de versión de la transacción.\n",
    "\n",
    "**Marker**\t1 byte\t| Indica una transacción SegWit. Debe ser 00.\n",
    "\n",
    "**Flag**\t1 byte\t| Indica una transacción SegWit. Debe ser 01 o mayor.\n",
    "\n",
    "**Input Count**\tvariable | Indica el número de entradas.\n",
    "\n",
    "**Inputs**\t\t\n",
    "    \n",
    "    -TXID 32 bytes | El TXID de la transacción que contiene la salida que deseas gastar.\n",
    "    -VOUT 4 bytes\t| El índice de la salida que deseas gastar.\n",
    "    -ScriptSig Size\tvariable | El tamaño en bytes del ScriptSig siguiente.\n",
    "    -ScriptSig variable | El código de desbloqueo para la salida que deseas gastar.\n",
    "    -Sequence 4 bytes | Establece si la transacción puede ser reemplazada o cuándo puede ser minada.\n",
    "\n",
    "**Output Count**\tvariable | Indica el número de salidas.\n",
    "\n",
    "**Outputs**\t\t\t\t\n",
    "\n",
    "    -Amount\te99e060000000000\t8 bytes\tLittle-Endian\tEl valor de la salida en satoshis.\n",
    "    -ScriptPubKey Size\t19\tvariable\tCompact Size\tEl tamaño en bytes del ScriptPubKey siguiente.\n",
    "    -ScriptPubKey\t[script]\tvariable\tScript\tEl código de bloqueo para esta salida.\n",
    "\n",
    "*entre otros...*"
   ]
  },
  {
   "cell_type": "markdown",
   "id": "02852b80-173d-4038-836f-4690b002f1cc",
   "metadata": {},
   "source": [
    "En resumen:\n",
    "\n",
    "    - Clave Pública : podríamos definirla como un número de cuenta en un sistema.\n",
    "        Dirección: También es tu número de cuenta, pero en una versión más corta que las personas usan cuando te envían bitcoins.\n",
    "\n",
    "    - Clave Privada* : podríamos definirla como tu contraseña.\n",
    "        Esto evita que otras personas envíen bitcoins desde tu dirección, sino saben la contraseña."
   ]
  },
  {
   "cell_type": "markdown",
   "id": "d6c7d971-0733-418e-8139-b560e95d6c17",
   "metadata": {},
   "source": [
    "<img src=\"images/bloque_dos/txid_elsalvador.png\" style=\"width:600px;\"/>"
   ]
  },
  {
   "cell_type": "markdown",
   "id": "5ed22d3c-37e6-4c8a-a2c3-236d65ef1966",
   "metadata": {},
   "source": [
    "vamos a ver la transacción de **El Salvador** comprando *11 BTC el día 8 de Enero de 2024*\n",
    "#### TXID: d949723224d070897011960e5e6f2f021f3cd5f242488385f9379792cf24a0c8"
   ]
  },
  {
   "cell_type": "code",
   "execution_count": null,
   "id": "0c48464b-1160-42a9-a2ff-cc4b62636ed4",
   "metadata": {},
   "outputs": [],
   "source": [
    "from IPython.display import HTML\n",
    "\n",
    "url = \"https://mempool.space/tx/d949723224d070897011960e5e6f2f021f3cd5f242488385f9379792cf24a0c8\"\n",
    "button = f\"\"\"\n",
    "<a href=\"{url}\" target=\"_blank\" style=\"display: inline-block; padding: 10px 20px; background-color: purple; color: white; text-align: center; text-decoration: none; font-size: 16px; border-radius: 5px;\">mempool</a>\n",
    "\"\"\"\n",
    "\n",
    "HTML(button)"
   ]
  },
  {
   "cell_type": "markdown",
   "id": "9f464602-4f24-47af-a8ab-66e3ac7b8468",
   "metadata": {},
   "source": [
    "<h3 style=\"color:darkblue\"> La estructura de un Bloque de Bitcoin</h3>"
   ]
  },
  {
   "cell_type": "markdown",
   "id": "c57c1fc8-5596-413e-8ae9-ff5737abbf7b",
   "metadata": {},
   "source": [
    "<img src=\"images/bloque_dos/bitcoin_block.png\" style=\"width:600px;\"/>"
   ]
  },
  {
   "cell_type": "markdown",
   "id": "b4b99803-d5a0-473e-943c-6ddaba23d441",
   "metadata": {},
   "source": [
    "Podríamos definir un Bloque de Bitcoin como una estructura de datos que contienen transacciones de bitcoins.\n",
    "Y como una estructura, un bloque está definido por los elementos que lo componen:\n",
    "\n",
    "    *- Version\n",
    "    *- Previous Block\n",
    "    *- Merkle Root\n",
    "    *- Time\n",
    "    *- Bits\n",
    "    *- Nonce\n"
   ]
  },
  {
   "cell_type": "markdown",
   "id": "698de059-e7c7-48ab-9702-8201aaee75af",
   "metadata": {},
   "source": [
    "Desde el primero de enero de 1970, por un estándar llamado UNIX se cuentan la cantidad de segundos que pasan desde esa fecha (UTC), y bitcoin utiliza un campo en la cabecera de un bloque llamado timestamp para determinar el tiempo de creación de ese bloque: \n",
    "https://www.unixtimestamp.com/"
   ]
  },
  {
   "cell_type": "code",
   "execution_count": null,
   "id": "512c7eed-39fc-4e7b-b75f-b68eb7793eab",
   "metadata": {},
   "outputs": [],
   "source": [
    "def hex_to_string(hex_string):\n",
    "  try:\n",
    "      # Removemos los non-hexadecimal carácteres\n",
    "      hex_string = hex_string.replace(\" \", \"\").replace(\"\\n\", \"\")\n",
    "\n",
    "      # Convertimos el hexadecimal a bytes\n",
    "      bytes_obj = bytes.fromhex(hex_string)\n",
    "\n",
    "      # Vamos a decodificarlo usando diferentes formatos de codificación\n",
    "      for encoding in ['utf-8', 'latin-1', 'cp1252', 'utf-16', 'shift-jis', 'euc-jp', 'gb2312']:\n",
    "          try:\n",
    "              string = bytes_obj.decode(encoding)\n",
    "              return string\n",
    "          except UnicodeDecodeError:\n",
    "              pass\n",
    "\n",
    "  except UnicodeDecodeError:\n",
    "      return \"\"\n",
    "\n",
    "  return \"Parece que el formato del hexadecimal no es el correcto\"\n",
    "\n",
    "# Decodifiquemos el Bloque Génesis:\n",
    "hex_value = \"0100000000000000000000000000000000000000000000000000000000000000000000003ba3edfd7a7b12b27ac72c3e67768f617fc81bc3888a51323a9fb8aa4b1e5e4a29ab5f49ffff001d1dac2b7c0101000000010000000000000000000000000000000000000000000000000000000000000000ffffffff4d04ffff001d0104455468652054696d65732030332f4a616e2f32303039204368616e63656c6c6f72206f6e206272696e6b206f66207365636f6e64206261696c6f757420666f722062616e6b73ffffffff0100f2052a01000000434104678afdb0fe5548271967f1a67130b7105cd6a828e03909a67962e0ea1f61deb649f6bc3f4cef38c4f35504e51ec112de5c384df7ba0b8d578a4c702b6bf11d5fac00000000\"\n",
    "string_value = hex_to_string(hex_value)\n",
    "print(\"¡Muy bien hecho! estudiante de Node Nation, acabas de decodificar el bloque Génesis de Bitcoin\")\n",
    "print(string_value)"
   ]
  },
  {
   "cell_type": "markdown",
   "id": "303511f8-c14c-4e78-9b02-2c0cc00d6e9a",
   "metadata": {},
   "source": [
    "#### Juguemos a encontrarlo en el bloque génesis con un increíble juego llamado Salvando a Satoshi!"
   ]
  },
  {
   "cell_type": "markdown",
   "id": "cbceed99-9b4c-4a3a-88c5-38ba32764a7b",
   "metadata": {},
   "source": [
    "https://savingsatoshi.com/en/chapters/chapter-1/intro-1"
   ]
  },
  {
   "cell_type": "markdown",
   "id": "ea29bed3-33c1-4605-a61f-540f2d50695a",
   "metadata": {},
   "source": [
    "----> Agregar más información sobre la blockchain y como los bloques son entrelazados por medio del hash del bloque previo"
   ]
  },
  {
   "cell_type": "markdown",
   "id": "4f6205d4-dfb1-45be-b0a4-bbba8eaa23ef",
   "metadata": {},
   "source": [
    "<h3 style=\"color:darkblue\"> Algoritmo de seguridad de hash y su importancia en Bitcoin</h3>"
   ]
  },
  {
   "cell_type": "markdown",
   "id": "64a9b489-4ad7-4461-a17d-2ba935e3dac6",
   "metadata": {},
   "source": [
    "<img src=\"images/bloque_dos/sha256.png\" style=\"width:600px;\"/>"
   ]
  },
  {
   "cell_type": "markdown",
   "id": "365ce2d1-56c1-44a1-b9df-c8b3f65a3077",
   "metadata": {},
   "source": [
    "la función de seguridad de hash es una herramienta de programación que crea huellas digitales para los datos,toma cualquier cantidad de datos, los codifica y devuelve un resultado breve y único para esos datos.\n",
    "    \n",
    "    El resultado siempre será una cadena de texto de:\n",
    "        * 32 bytes\n",
    "        * 256 bits\n",
    "        * 64 carácteres."
   ]
  },
  {
   "cell_type": "code",
   "execution_count": null,
   "id": "37832bcb-0ce5-4a9c-83e8-f2744963b6c9",
   "metadata": {},
   "outputs": [],
   "source": [
    "from IPython.display import HTML\n",
    "\n",
    "url = \"https://sha256algorithm.com/\"\n",
    "button = f\"\"\"\n",
    "<a href=\"{url}\" target=\"_blank\" style=\"display: inline-block; padding: 10px 20px; background-color: navy; color: white; text-align: center; text-decoration: none; font-size: 16px; border-radius: 5px;\">SHA256</a>\n",
    "\"\"\"\n",
    "\n",
    "HTML(button)"
   ]
  },
  {
   "cell_type": "markdown",
   "id": "1a27635f-dbfd-4856-ab88-d4769a2afaee",
   "metadata": {},
   "source": [
    "#### >_ El siguiente código no compila debido a la magnitud del numero a procesar, es muy grande.\n",
    "    por eso comentamos el código, no es recomendable ejecutarlo."
   ]
  },
  {
   "cell_type": "code",
   "execution_count": null,
   "id": "94a8285e-4445-41f4-a50a-e65d74bba1bf",
   "metadata": {},
   "outputs": [],
   "source": [
    "import math\n",
    "\n",
    "# Calculamos el resultado (en notación científica)\n",
    "#resultado = 2 ** (32 ** 8)\n",
    "#resultado_cientifico = f\"{resultado:.2e}\"\n",
    "\n",
    "# Imprimimos el resultado en notación científica\n",
    "print(f\"2 elevado a 32 elevado a la 8va potencia es aproximadamente a 10^77\")\n",
    "\n",
    "# Explicación\n",
    "print(\"Este número es tan grande que es relativamiente cercano a el número de átomos estimados en el universo observable.\")\n",
    "print(\"Imagina intentar escribir este número en un papel. ¡Necesitarías una cantidad de papel que llenaría múltiples galaxias!\")"
   ]
  },
  {
   "cell_type": "markdown",
   "id": "b6f45ae4-5a66-4650-ba0f-1b9e3203f090",
   "metadata": {},
   "source": [
    "<h3 style=\"color:OrangeRed\"> Open Source! es como una receta de cocina</h3>"
   ]
  },
  {
   "cell_type": "markdown",
   "id": "5feb8235-66cf-42e1-a0e3-8ddf83390ffb",
   "metadata": {},
   "source": [
    "#### Revisemos unos recursos gratuitos que mejorarán nuestra manera de entender Bitcoin como una herramienta Open Source"
   ]
  },
  {
   "cell_type": "markdown",
   "id": "6198e19c-3b8f-4560-822e-580f32930c88",
   "metadata": {},
   "source": [
    "Aprendiendo Bitcoin desde la Línea de Comandos 2.0.1"
   ]
  },
  {
   "cell_type": "markdown",
   "id": "e65362a2-36dc-44d0-9f1e-2cc382cc3d78",
   "metadata": {},
   "source": [
    "https://github.com/BlockchainCommons/Learning-Bitcoin-from-the-Command-Line/blob/spanish-translation/es/README.md"
   ]
  },
  {
   "cell_type": "markdown",
   "id": "ac4ab07a-406d-4917-937b-d6d6937dd0bf",
   "metadata": {},
   "source": [
    "Repositorio del código de Bitcoin"
   ]
  },
  {
   "cell_type": "markdown",
   "id": "ef97c817-150c-4aac-a10d-74451b75f823",
   "metadata": {},
   "source": [
    "https://github.com/bitcoin/bitcoin"
   ]
  },
  {
   "cell_type": "markdown",
   "id": "670d7c84-4184-4d21-a0c7-28880fed2694",
   "metadata": {},
   "source": [
    "Libro Blanco de Bitcoin, explicación sobre qué es y como funciona escrito por su creador, Satoshi Nakamoto"
   ]
  },
  {
   "cell_type": "markdown",
   "id": "40827edf-ce71-4079-9ff0-6778ef112a47",
   "metadata": {},
   "source": [
    "https://bitcoin.org/files/bitcoin-paper/bitcoin_es_latam.pdf"
   ]
  },
  {
   "cell_type": "markdown",
   "id": "cdf18500-42d5-47cc-a012-de9836bae4b4",
   "metadata": {},
   "source": [
    "**NOTA FINAL DE BLOQUE**"
   ]
  },
  {
   "cell_type": "markdown",
   "id": "3a782b8b-778b-4ec8-908a-bcfd35c5e3b4",
   "metadata": {},
   "source": [
    "**Estructuras de Datos de Bitcoin**\n",
    "\n",
    "1. Análisis de bloques y transacciones de Bitcoin en Rust\n",
    "Depuración y Pruebas\n",
    "2. Manejo de Casos Especiales y Análisis de Scripts\n",
    "3. Modificación del encabezado del bloque\n",
    "4. Eficiencia y Seguridad en la Minería de Bitcoin\n",
    "\n",
    "*Haz clic en el botón Plan B Network para acceder al curso:*"
   ]
  },
  {
   "cell_type": "markdown",
   "id": "9b095e3e-e25d-4369-b291-34fee817233d",
   "metadata": {},
   "source": [
    "<a href=\"https://planb.network/es/courses/btc401/5ed314b1-8293-567d-bf03-730e8c9c774b\"><img src=\"images/pbn.jpg\" style=\"width:300px;\"/></a>"
   ]
  }
 ],
 "metadata": {
  "kernelspec": {
   "display_name": "Python 3 (ipykernel)",
   "language": "python",
   "name": "python3"
  },
  "language_info": {
   "codemirror_mode": {
    "name": "ipython",
    "version": 3
   },
   "file_extension": ".py",
   "mimetype": "text/x-python",
   "name": "python",
   "nbconvert_exporter": "python",
   "pygments_lexer": "ipython3",
   "version": "3.10.12"
  }
 },
 "nbformat": 4,
 "nbformat_minor": 5
}
