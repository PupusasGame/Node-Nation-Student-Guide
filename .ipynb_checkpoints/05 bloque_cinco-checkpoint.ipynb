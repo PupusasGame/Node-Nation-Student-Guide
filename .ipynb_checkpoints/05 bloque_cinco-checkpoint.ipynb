{
 "cells": [
  {
   "cell_type": "markdown",
   "id": "1e611e65-e1e1-4ace-9b0b-ca87131d2a21",
   "metadata": {},
   "source": [
    "<h2 style=\"color:yellow\"> Lightning Network <strong>la segunda capa de Bitcoin</strong> </h2>"
   ]
  },
  {
   "cell_type": "markdown",
   "id": "eee00357-e96b-41af-bbf1-ae31a65a35f6",
   "metadata": {},
   "source": [
    "<img src=\"images/bloque_cinco/bloque_cinco_banner.png\" style=\"width:600px;\"/>"
   ]
  },
  {
   "cell_type": "markdown",
   "id": "3c9cb8c6-8707-4f08-a561-4a34672fbf84",
   "metadata": {},
   "source": [
    "## ¿Qué es Lightning Network?"
   ]
  },
  {
   "cell_type": "markdown",
   "id": "2f8fc6d0-8831-492e-bb58-be1eed32628b",
   "metadata": {},
   "source": [
    "#### Analogía del aeropuerto"
   ]
  },
  {
   "cell_type": "code",
   "execution_count": null,
   "id": "d60cddcb-75d7-4d7f-8f7b-8ac7acacaa89",
   "metadata": {},
   "outputs": [],
   "source": [
    "from IPython.display import HTML\n",
    "\n",
    "url = \"https://darthcoin.substack.com/p/lightning-network-y-la-analogia-del\"\n",
    "button = f\"\"\"\n",
    "<a href=\"{url}\" target=\"_blank\" style=\"display: inline-block; padding: 10px 20px; background-color: gray; color: black; text-align: center; text-decoration: none; font-size: 16px; border-radius: 5px;\">DarthCoin</a>\n",
    "\"\"\"\n",
    "\n",
    "HTML(button)"
   ]
  },
  {
   "cell_type": "markdown",
   "id": "5b4a8e6c-e783-4aca-abce-b42955032d43",
   "metadata": {},
   "source": [
    "* La Red Lightning es una solución de escalabilidad construida sobre el protocolo de Bitcoin.\n",
    "\n",
    "* Facilita pagos más pequeños, casi instantáneos entre usuarios a un costo muy bajo. \n",
    "\n",
    "* Evita la necesidad de que cada transacción realizada se lleve a cabo en la 'capa base' de Bitcoin, al tiempo que garantiza que el valor que se transacciona cumpla con las reglas de la red Bitcoin. \n",
    "\n",
    "* Es descentralizada, sin bases de datos centralizadas y cada parte de la Red Lightning comienza y termina en la cadena de bloques de Bitcoin. \n",
    "\n",
    "* Los usuarios pueden salir de la 'capa 2' y regresar a la capa base en cualquier momento que deseen."
   ]
  },
  {
   "cell_type": "markdown",
   "id": "00220b8f-2198-4333-8202-0d53bfdfda1f",
   "metadata": {},
   "source": [
    "### Implementaciones de Lightning Network"
   ]
  },
  {
   "cell_type": "markdown",
   "id": "86a392be-b6ac-4836-b721-24fdbf5ddad4",
   "metadata": {},
   "source": [
    "Recuerda, Open Source es como una receta de cocina"
   ]
  },
  {
   "cell_type": "code",
   "execution_count": null,
   "id": "25bf8885-0e53-4133-a75e-013507ef9fbe",
   "metadata": {},
   "outputs": [],
   "source": [
    "from IPython.display import HTML\n",
    "\n",
    "url = \"https://github.com/ACINQ/eclair\"\n",
    "button = f\"\"\"\n",
    "<a href=\"{url}\" target=\"_blank\" style=\"display: inline-block; padding: 10px 20px; background-color: white; color: green; text-align: center; text-decoration: none; font-size: 16px; border-radius: 5px;\">Eclair</a>\n",
    "\"\"\"\n",
    "\n",
    "HTML(button)"
   ]
  },
  {
   "cell_type": "code",
   "execution_count": null,
   "id": "1470f48d-4277-4cb6-a5ee-1dcc172b64c6",
   "metadata": {},
   "outputs": [],
   "source": [
    "from IPython.display import HTML\n",
    "\n",
    "url = \"https://github.com/lightningnetwork/lnd\"\n",
    "button = f\"\"\"\n",
    "<a href=\"{url}\" target=\"_blank\" style=\"display: inline-block; padding: 10px 20px; background-color: cyan; color: blue; text-align: center; text-decoration: none; font-size: 16px; border-radius: 5px;\">LND</a>\n",
    "\"\"\"\n",
    "\n",
    "HTML(button)"
   ]
  },
  {
   "cell_type": "code",
   "execution_count": null,
   "id": "a7838aed-b4c6-42ec-9350-6a747aa390a7",
   "metadata": {},
   "outputs": [],
   "source": [
    "from IPython.display import HTML\n",
    "\n",
    "url = \"https://github.com/ElementsProject/lightning\"\n",
    "button = f\"\"\"\n",
    "<a href=\"{url}\" target=\"_blank\" style=\"display: inline-block; padding: 10px 20px; background-color: orange; color: black; text-align: center; text-decoration: none; font-size: 16px; border-radius: 5px;\">LND</a>\n",
    "\"\"\"\n",
    "\n",
    "HTML(button)"
   ]
  },
  {
   "cell_type": "markdown",
   "id": "00d867e7-0583-4bc8-87eb-c16bf716a8b0",
   "metadata": {},
   "source": [
    "#### También puedes ver el whitepaper de Lightning Network (versión en inglés, buen momento para prácticarlo ¿cierto?)"
   ]
  },
  {
   "cell_type": "code",
   "execution_count": null,
   "id": "6c010c86-2743-4e1e-8f22-317502041b91",
   "metadata": {},
   "outputs": [],
   "source": [
    "from IPython.display import HTML\n",
    "\n",
    "url = \"https://lightning.network/lightning-network-paper.pdf\"\n",
    "button = f\"\"\"\n",
    "<a href=\"{url}\" target=\"_blank\" style=\"display: inline-block; padding: 10px 20px; background-color: red; color: white; text-align: center; text-decoration: none; font-size: 16px; border-radius: 5px;\">Lightning Network paper</a>\n",
    "\"\"\"\n",
    "\n",
    "HTML(button)"
   ]
  },
  {
   "cell_type": "markdown",
   "id": "60fddd6e-f9a8-4cc4-bc1f-f0aad3b581af",
   "metadata": {},
   "source": [
    "<h3 style=\"color:orange\"> Creemos una infraestructura Bitcoin. <strong>¡juguemos a correr nodos!</strong> </h3>"
   ]
  },
  {
   "cell_type": "markdown",
   "id": "acb35a1d-2c22-4aef-974d-7cf52c50f78d",
   "metadata": {},
   "source": [
    "<img src=\"images/bloque_cinco/polar.png\" style=\"width:600px;\"/>"
   ]
  },
  {
   "cell_type": "code",
   "execution_count": null,
   "id": "6b1c3d2a-9385-4bd2-a562-00a587f4692e",
   "metadata": {},
   "outputs": [],
   "source": [
    "from IPython.display import HTML\n",
    "\n",
    "url = \"https://lightningpolar.com/\"\n",
    "button = f\"\"\"\n",
    "<a href=\"{url}\" target=\"_blank\" style=\"display: inline-block; padding: 10px 20px; background-color: lightgreen; color: navy; text-align: center; text-decoration: none; font-size: 16px; border-radius: 5px;\">Lightning Network paper</a>\n",
    "\"\"\"\n",
    "\n",
    "HTML(button)"
   ]
  },
  {
   "cell_type": "markdown",
   "id": "e90938fe-c385-4fb7-a8ff-9d67229bcdda",
   "metadata": {},
   "source": [
    "#### Aprendamos como está compuesta una factura de Lightning Network"
   ]
  },
  {
   "cell_type": "markdown",
   "id": "5ba3128b-4f67-4ef6-94e4-966f63b2f668",
   "metadata": {},
   "source": [
    "<img src=\"images/bloque_cinco/bolt11.png\" style=\"width:600px;\"/>"
   ]
  },
  {
   "cell_type": "code",
   "execution_count": null,
   "id": "04c2b1e7-99cc-4c3c-86b1-be0348fd55f7",
   "metadata": {},
   "outputs": [],
   "source": [
    "from IPython.display import HTML\n",
    "\n",
    "url = \"https://www.bolt11.org/\"\n",
    "button = f\"\"\"\n",
    "<a href=\"{url}\" target=\"_blank\" style=\"display: inline-block; padding: 10px 20px; background-color: white; color: navy; text-align: center; text-decoration: none; font-size: 16px; border-radius: 5px;\">Bolt11</a>\n",
    "\"\"\"\n",
    "\n",
    "HTML(button)"
   ]
  },
  {
   "cell_type": "markdown",
   "id": "15f78417-73e3-4c69-b578-8e9c3a09027b",
   "metadata": {},
   "source": [
    "<img src=\"images/bloque_cinco/zeus_alby.png\" style=\"width:800px;\"/>"
   ]
  },
  {
   "cell_type": "markdown",
   "id": "99f72088-9b50-4795-8652-b189d3c4f891",
   "metadata": {},
   "source": [
    "**NOTA FINAL DE BLOQUE**"
   ]
  },
  {
   "cell_type": "markdown",
   "id": "926c5356-eac9-4c93-be1f-bd5492c21a7a",
   "metadata": {},
   "source": [
    "**¡Expende tus conocimientos de Lightning Network!**\n",
    "\n",
    "     1. Historia de los Canales de Pago\n",
    "     2. Contrato de Bloqueo de Tiempo Hashed (HTLC) y Implementación\n",
    "     3. Estructura de Factura\n",
    "     4. Diferentes Billeteras y Sus Características\n",
    "\n",
    "*Haz clic en el botón Plan B Network para acceder al curso:*"
   ]
  },
  {
   "cell_type": "markdown",
   "id": "03e59417-d16f-49b0-9783-34f46b4a2dd1",
   "metadata": {},
   "source": [
    "<a href=\"https://planb.network/es/courses/btc401/a0b11c6e-c0ff-5e65-b809-b2ab9a2fc37b\"><img src=\"images/pbn.jpg\" style=\"width:300px;\"/></a>"
   ]
  }
 ],
 "metadata": {
  "kernelspec": {
   "display_name": "Python 3 (ipykernel)",
   "language": "python",
   "name": "python3"
  },
  "language_info": {
   "codemirror_mode": {
    "name": "ipython",
    "version": 3
   },
   "file_extension": ".py",
   "mimetype": "text/x-python",
   "name": "python",
   "nbconvert_exporter": "python",
   "pygments_lexer": "ipython3",
   "version": "3.10.12"
  }
 },
 "nbformat": 4,
 "nbformat_minor": 5
}
