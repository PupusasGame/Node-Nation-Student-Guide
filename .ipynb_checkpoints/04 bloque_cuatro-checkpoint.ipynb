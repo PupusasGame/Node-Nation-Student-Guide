{
 "cells": [
  {
   "cell_type": "markdown",
   "id": "8efa4b17-5e3b-473a-8b87-16dbccdb74ac",
   "metadata": {},
   "source": [
    "<h2 style=\"color:DarkOrange\"> Agregando nuevos bloques a Bitcoin, <strong>Minería de Bitcoin</strong> segunda parte</h2>"
   ]
  },
  {
   "cell_type": "markdown",
   "id": "f347fd29-3b1a-4e2b-9b9e-6c25b0e0b37f",
   "metadata": {},
   "source": [
    "<img src=\"images/bloque_cuatro/bloque_cuatro_banner.png\" style=\"width:600px;\"/>"
   ]
  },
  {
   "cell_type": "markdown",
   "id": "cc3bfb20-0fc9-490d-906b-bb022de237cd",
   "metadata": {},
   "source": [
    "Antes de comenzar, te compartimos un *libro gratuito de parte de Braiins* una empresa de minería que te enseñará conceptos más detallados sobre Bitcoin en **español**!"
   ]
  },
  {
   "cell_type": "code",
   "execution_count": null,
   "id": "b063ea92-1e19-4621-9f5a-bd9fb929313b",
   "metadata": {},
   "outputs": [],
   "source": [
    "from IPython.display import HTML\n",
    "\n",
    "url = \"https://braiins.com/books/bitcoin-mining-handbook\"\n",
    "button = f\"\"\"\n",
    "<a href=\"{url}\" target=\"_blank\" style=\"display: inline-block; padding: 10px 20px; background-color: gray; color: white; text-align: center; text-decoration: none; font-size: 16px; border-radius: 5px;\">Manual de Minería Bitcoin </a>\n",
    "\"\"\"\n",
    "\n",
    "HTML(button)"
   ]
  },
  {
   "cell_type": "markdown",
   "id": "2b2a9442-ba56-4997-b0e4-c6e89562fb4b",
   "metadata": {},
   "source": [
    "#### Entendiendo porqué sólo exitirán 21 millones de Bitcoin"
   ]
  },
  {
   "cell_type": "markdown",
   "id": "a08883c4-147e-4a19-ba75-8106170bdb66",
   "metadata": {},
   "source": [
    "¿Recuerdas cuando hablamos sobre la propiedad de **escazes** del dinero sólido en el bloque Genésis?\n",
    "\n",
    "    En Bitcoin tenemos asegurado por matemáticas el hecho de que sólo pueden existir cerca de 21 millones de Bitcoin, este límite estricto al suministro total de Bitcoin es una característica clave de la política monetaria de Bitcoin, diseñada para crear escasez y prevenir la inflación."
   ]
  },
  {
   "cell_type": "markdown",
   "id": "38884ee7-f05a-48e8-811a-594245379c87",
   "metadata": {},
   "source": [
    "<img src=\"images/bloque_cuatro/bitcoin_suministro.png\" style=\"width:600px;\"/>"
   ]
  },
  {
   "cell_type": "code",
   "execution_count": null,
   "id": "f3e191fe-e72c-453f-b239-70df15cb6760",
   "metadata": {},
   "outputs": [],
   "source": [
    "def total_supply_bitcoin():\n",
    "    \"\"\"Calcula el suministro máximo de Bitcoin según su fórmula y halvings.\"\"\"\n",
    "    \"\"\"Hay una equicación del suministro máximo de Bitcoin,\n",
    "    y ahora vamos a verificar el resultado y a entender porqué es tan importante\n",
    "    no sólo como propiedad del dinero, sino, también para el tema de este bloque, minería.\n",
    "    \"\"\"\n",
    "    total_bitcoins = 0\n",
    "    recompensa_inicial = 50  # Recompensa inicial por bloque\n",
    "    num_bloques_por_epoca = 210000  # Número de bloques por época (halving)\n",
    "\n",
    "    for epoca in range(33):  # Iteramos sobre las 33 épocas (32 halvings + la inicial)\n",
    "        recompensa_actual = recompensa_inicial / (2 ** epoca)  # Recompensa se reduce a la mitad en cada época\n",
    "        bitcoins_generados_epoca = num_bloques_por_epoca * recompensa_actual\n",
    "        total_bitcoins += bitcoins_generados_epoca\n",
    "        print(f\"Época {epoca + 1}: {bitcoins_generados_epoca} BTC\")  # Imprimimos resultados de cada época\n",
    "\n",
    "    return total_bitcoins\n",
    "\n",
    "# Calcular y mostrar el resultado\n",
    "max_supply = total_supply_bitcoin()\n",
    "print(f\"\\nEl suministro máximo de Bitcoin es: {max_supply} BTC\")"
   ]
  },
  {
   "cell_type": "markdown",
   "id": "4e40f188-9749-46ed-afc3-65f4c0d2cc55",
   "metadata": {},
   "source": [
    "### Minemos con el script de **@BTC_Cracker** "
   ]
  },
  {
   "cell_type": "markdown",
   "id": "31452831-f0e9-4592-adda-93cf49264b36",
   "metadata": {},
   "source": [
    "El script te permite jugar a minar el último bloque ya minado de Bitcoin para poder experimentar lo que un minero hace en realidad:\n",
    "\n",
    "    - El script te preguntará por un nonce incial, tu deberás elegir entre 0 y el número 4294967295 (El número 4,294,967,295 es el valor máximo que puede representar un entero sin signo de 32 bits. el nonce es un campo de 4 bytes en la cabecera del blocktemplate que estamos creando) usa 0 para iniciar.\n",
    "    \n",
    "    - El script también te pedirá escribir el nonce final con el que deseas probar este blocktemplate, usa 4294967295 en este caso.\n",
    "    \n",
    "    - El script en un paso posterior te pedirá ingresar un numero de timestamp para iniciar (ejemplo para el bloque 879112 será 1736800890 siendo el timestamp del último bloque y además tendrás que agregar posteriormente el valor final, alrededor de unas 2 horas después a partir del momento al correr el script para nuestro ejemplo ese número sería: 1736808367)."
   ]
  },
  {
   "cell_type": "markdown",
   "id": "a326e335-a090-4b2c-8310-20d9fc642bff",
   "metadata": {},
   "source": [
    "#### Descarga el script en tu computadora"
   ]
  },
  {
   "cell_type": "code",
   "execution_count": null,
   "id": "414a0a89-514c-4381-ba9d-6b3c999d6cc0",
   "metadata": {},
   "outputs": [],
   "source": [
    "from IPython.display import HTML\n",
    "\n",
    "url = \"https://github.com/SoloSatoshi/BTC-Mining-Info/blob/main/BTC-Blocker.py\"\n",
    "button = f\"\"\"\n",
    "<a href=\"{url}\" target=\"_blank\" style=\"display: inline-block; padding: 10px 20px; background-color: red; color: white; text-align: center; text-decoration: none; font-size: 16px; border-radius: 5px;\">Minemos el último bloque de Bitcoin</a>\n",
    "\"\"\"\n",
    "\n",
    "HTML(button)"
   ]
  },
  {
   "cell_type": "markdown",
   "id": "4b6055f1-b3e1-4a3a-a0dd-77db576c0048",
   "metadata": {},
   "source": [
    "<img src=\"images/bloque_cuatro/btc_mining00.png\" style=\"width:600px;\"/>"
   ]
  },
  {
   "cell_type": "markdown",
   "id": "f3945216-feba-4016-a3cd-4ba161382aa5",
   "metadata": {},
   "source": [
    "Una vez llenos todos los campos podrás obervar en el escript 3 opciónes\n",
    "\n",
    "    [Enter] para que el script cambie al siguiente número de nonce\n",
    "    [C] para cambiar manualmente el nonce\n",
    "    [e] para salir"
   ]
  },
  {
   "cell_type": "markdown",
   "id": "ef15388e-a4a2-488b-994c-e863f51450ef",
   "metadata": {},
   "source": [
    "<img src=\"images/bloque_cuatro/btc_mining01.png\" style=\"width:600px;\"/>"
   ]
  },
  {
   "cell_type": "markdown",
   "id": "35936652-87ff-4df5-8ead-e821f39a43ae",
   "metadata": {},
   "source": [
    "<img src=\"images/bloque_cuatro/btc_mining02.png\" style=\"width:600px;\"/>"
   ]
  },
  {
   "cell_type": "markdown",
   "id": "ac379d57-2048-45ad-bb31-ba54127a8c47",
   "metadata": {},
   "source": [
    "Sino quieres desgastar la tecla \"Enter\" podemos verificar en el bloque que intentamos minar, el cual ya está minado el número de nonce que cumplía con la dificultad necesaria para minar ese bloque.\n",
    "\n",
    "    -vamos a mempool.space y buscamos la altura del bloque que intentamos minar y copiamos el campo nonce.\n",
    "    ** NOTA: ésto sólo es un algorítmo que mina un bloque ya minado. "
   ]
  },
  {
   "cell_type": "markdown",
   "id": "775d2c3c-b5a2-4dbf-a71a-1a58cf490cd8",
   "metadata": {},
   "source": [
    "<img src=\"images/bloque_cuatro/btc_mining03.png\" style=\"width:600px;\"/>"
   ]
  },
  {
   "cell_type": "markdown",
   "id": "739b34fb-0480-4f6f-9c4e-c8f5ee883cd4",
   "metadata": {},
   "source": [
    "Convirtamos el número Hex a Decimal\n",
    "\n",
    "    - Convierte el número Hexadecimal base 16 de la cabecera de bloque a un decimal\n",
    "    - copia este número en la terminal donde estás corriendo el código de BTC_Craker"
   ]
  },
  {
   "cell_type": "code",
   "execution_count": null,
   "id": "53537c43-1cba-4fa8-99f9-7fc7fc69ba41",
   "metadata": {},
   "outputs": [],
   "source": [
    "def hex_to_dec(hex_num):\n",
    "  return int(hex_num, 16)\n",
    "\n",
    "print(hex_to_dec(\"0x651ca0b0\"))"
   ]
  },
  {
   "cell_type": "markdown",
   "id": "8e2eb05b-fedb-4664-a6a3-09b4de121481",
   "metadata": {},
   "source": [
    "<img src=\"images/bloque_cuatro/btc_mining04.png\" style=\"width:600px;\"/>"
   ]
  },
  {
   "cell_type": "markdown",
   "id": "a43bf61d-1cf9-4e3c-91b6-1d46559af8c0",
   "metadata": {},
   "source": [
    "<img src=\"images/bloque_cuatro/btc_mining05.png\" style=\"width:600px;\"/>"
   ]
  },
  {
   "cell_type": "markdown",
   "id": "aa35c05b-a971-415f-9bcc-2e39bbf315be",
   "metadata": {},
   "source": [
    "**Has minado tu primer bloque de Bitcoin (previamente minado por otro minero)**"
   ]
  },
  {
   "cell_type": "markdown",
   "id": "e922f3b8-e0b6-4b90-8ec6-9d140764794f",
   "metadata": {},
   "source": [
    "<h3 style=\"color:pink\"> Minemos Bitcoin <strong>jugando</strong> con un simulador divertido!</h3>"
   ]
  },
  {
   "cell_type": "markdown",
   "id": "c4e042d3-6c9c-44bc-b935-f9a23fb36597",
   "metadata": {},
   "source": [
    "<img src=\"images/bloque_cuatro/dplusplus.png\" style=\"width:600px;\"/>"
   ]
  },
  {
   "cell_type": "markdown",
   "id": "71df2873-ad7c-4379-9045-2df2b0986b5c",
   "metadata": {},
   "source": [
    "Reglas del juego:\n",
    "\n",
    "    1- Ajusta la dificultad de la red\n",
    "        * Haz clic en el botón de configuración\n",
    "        * Elige la cantidad de ceros según la dificultad necesaría"
   ]
  },
  {
   "cell_type": "markdown",
   "id": "e4ac2a65-0b54-481d-8863-3cd4b1ad0bff",
   "metadata": {},
   "source": [
    "<img src=\"images/bloque_cuatro/dplusplus01.png\" style=\"width:600px;\"/>"
   ]
  },
  {
   "cell_type": "markdown",
   "id": "42f9e56d-0710-4e8a-8587-8ce9fa8dddd3",
   "metadata": {},
   "source": [
    "    2- Escribe números en el campo de nonce para encontrar el nonce \n",
    "    que se ajuste a la dificultad"
   ]
  },
  {
   "cell_type": "markdown",
   "id": "661c72f3-7210-49e2-bed4-5af20a8d7100",
   "metadata": {},
   "source": [
    "<img src=\"images/bloque_cuatro/dplusplus02.png\" style=\"width:600px;\"/>"
   ]
  },
  {
   "cell_type": "markdown",
   "id": "458ed547-55bb-4fec-9ab7-8e17d460bdc3",
   "metadata": {},
   "source": [
    "    3- Si ganas un bloque tienes que Gritar ¡Bitcoin! \n",
    "    para ganar una recompensa\n",
    "¡Mucha suerte!"
   ]
  },
  {
   "cell_type": "code",
   "execution_count": null,
   "id": "f52f98e2-0ced-4a82-a968-43cd47f15a0c",
   "metadata": {},
   "outputs": [],
   "source": [
    "from IPython.display import HTML\n",
    "\n",
    "url = \"https://dplus.plus/mine.html\"\n",
    "button = f\"\"\"\n",
    "<a href=\"{url}\" target=\"_blank\" style=\"display: inline-block; padding: 10px 20px; background-color: pink; color: red; text-align: center; text-decoration: none; font-size: 16px; border-radius: 5px;\">Juguemos a minar un bloque de Bitcoin</a>\n",
    "\"\"\"\n",
    "\n",
    "HTML(button)"
   ]
  },
  {
   "cell_type": "markdown",
   "id": "d3705d24-e32e-4d4e-9762-4efe3cee520c",
   "metadata": {},
   "source": [
    "**NOTA FINAL DE BLOQUE**"
   ]
  },
  {
   "cell_type": "markdown",
   "id": "a29dccfb-9502-456a-8e7f-b5c764b44c60",
   "metadata": {},
   "source": [
    "**Lightning Network**\n",
    "\n",
    "     Comprender el funcionamiento de la industria minera a través de un ejercicio práctico de reutilización de ASICs.\n",
    "\n",
    "*Haz clic en el botón Plan B Network para acceder al curso:*"
   ]
  },
  {
   "cell_type": "markdown",
   "id": "32405ee9-b152-4560-b9ad-4fd9d6905f57",
   "metadata": {},
   "source": [
    "<a href=\"https://planb.network/es/courses/min201\"><img src=\"images/pbn.jpg\" style=\"width:300px;\"/></a>"
   ]
  }
 ],
 "metadata": {
  "kernelspec": {
   "display_name": "Python 3 (ipykernel)",
   "language": "python",
   "name": "python3"
  },
  "language_info": {
   "codemirror_mode": {
    "name": "ipython",
    "version": 3
   },
   "file_extension": ".py",
   "mimetype": "text/x-python",
   "name": "python",
   "nbconvert_exporter": "python",
   "pygments_lexer": "ipython3",
   "version": "3.10.12"
  }
 },
 "nbformat": 4,
 "nbformat_minor": 5
}
