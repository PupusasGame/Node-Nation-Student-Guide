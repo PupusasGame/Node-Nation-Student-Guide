{
 "cells": [
  {
   "cell_type": "markdown",
   "id": "64fd7e11-7c08-47b6-83a5-d24fcc6a190f",
   "metadata": {},
   "source": [
    "<h2 style=\"color:yellow\">Este es el último bloque, <strong>pero, también es el inicio de tu camino a la madriguera de Bitcoin</strong> </h2>"
   ]
  },
  {
   "cell_type": "markdown",
   "id": "d54cbcba-5bba-4eb7-9fee-3e4235aa4ca5",
   "metadata": {},
   "source": [
    "<img src=\"images/bloque_seis/bloque_seis_banner.png\" style=\"width:600px;\"/>"
   ]
  },
  {
   "cell_type": "markdown",
   "id": "3647f048-c089-469d-a99c-1e9a5b95d92b",
   "metadata": {},
   "source": [
    "#### Lunaticoin"
   ]
  },
  {
   "cell_type": "markdown",
   "id": "f72905b0-f7a1-4dd9-8680-1a2c6fb2f916",
   "metadata": {},
   "source": [
    "En 12 puntos ordenados cronológicamente trato las actitudes, lecturas, conocimientos y habilidades que creo son más importantes para empezar a la máxima velocidad. Una síntesis y repaso personal a todo lo que para mi acaba desembocando en un **bitcoiner** soberano que exprime el verdadero potencial de *la invención de Satoshi*."
   ]
  },
  {
   "cell_type": "markdown",
   "id": "38a3df4f-b9c9-4414-8204-fa111d70ee13",
   "metadata": {},
   "source": [
    "<img src=\"images/bloque_seis/lunaticoin.png\" style=\"width:600px;\"/>"
   ]
  },
  {
   "cell_type": "code",
   "execution_count": null,
   "id": "d2d9a684-387f-44fe-a8c9-d117171814d0",
   "metadata": {},
   "outputs": [],
   "source": [
    "from IPython.display import HTML\n",
    "\n",
    "url = \"https://www.youtube.com/watch?v=A1c3KOdZ_iM\"\n",
    "button = f\"\"\"\n",
    "<a href=\"{url}\" target=\"_blank\" style=\"display: inline-block; padding: 10px 20px; background-color: red; color: white; text-align: center; text-decoration: none; font-size: 16px; border-radius: 5px;\">Lunaticoin</a>\n",
    "\"\"\"\n",
    "\n",
    "HTML(button)"
   ]
  },
  {
   "cell_type": "markdown",
   "id": "455c5e5c-7597-46d5-bb34-98354f59c589",
   "metadata": {},
   "source": [
    "#### 402 Payment Required"
   ]
  },
  {
   "cell_type": "markdown",
   "id": "66f3b2b7-1ad7-43e1-93df-b901a31ee95d",
   "metadata": {},
   "source": [
    "<img src=\"images/bloque_seis/402payment.png\" style=\"width:600px;\"/>"
   ]
  },
  {
   "cell_type": "code",
   "execution_count": null,
   "id": "e1dff6e1-adcd-4910-a71a-e80f780a709b",
   "metadata": {},
   "outputs": [],
   "source": [
    "from IPython.display import HTML\n",
    "\n",
    "url = \"https://www.youtube.com/watch?v=qiXHs31cuI0\"\n",
    "button = f\"\"\"\n",
    "<a href=\"{url}\" target=\"_blank\" style=\"display: inline-block; padding: 10px 20px; background-color: orange; color: red; text-align: center; text-decoration: none; font-size: 16px; border-radius: 5px;\">402PaymentRequired</a>\n",
    "\"\"\"\n",
    "\n",
    "HTML(button)"
   ]
  },
  {
   "cell_type": "markdown",
   "id": "2e573945-544b-46fd-8c36-4d5bc856b4dc",
   "metadata": {},
   "source": [
    "#### Fountain app"
   ]
  },
  {
   "cell_type": "markdown",
   "id": "d077b713-c910-4434-a275-43672b4aced2",
   "metadata": {},
   "source": [
    "<img src=\"images/bloque_seis/fountain.png\" style=\"width:600px;\"/>"
   ]
  },
  {
   "cell_type": "code",
   "execution_count": null,
   "id": "51f4b213-b294-43ca-9745-5745c9981c04",
   "metadata": {},
   "outputs": [],
   "source": [
    "from IPython.display import HTML\n",
    "\n",
    "url = \"https://www.fountain.fm/\"\n",
    "button = f\"\"\"\n",
    "<a href=\"{url}\" target=\"_blank\" style=\"display: inline-block; padding: 10px 20px; background-color: yellow; color: red; text-align: center; text-decoration: none; font-size: 16px; border-radius: 5px;\">FountainFM app</a>\n",
    "\"\"\"\n",
    "\n",
    "HTML(button)"
   ]
  },
  {
   "cell_type": "markdown",
   "id": "fff66449-0a5d-478f-a374-7ddb9a846f82",
   "metadata": {},
   "source": [
    "#### Fountain app"
   ]
  },
  {
   "cell_type": "markdown",
   "id": "d1cbc568-b46e-43cf-a97c-d061ad895cac",
   "metadata": {},
   "source": [
    "<img src=\"images/bloque_seis/stackernews.png\" style=\"width:600px;\"/>"
   ]
  },
  {
   "cell_type": "code",
   "execution_count": null,
   "id": "e0ef28ac-4ec9-441e-b4e4-7a794f9b4310",
   "metadata": {},
   "outputs": [],
   "source": [
    "from IPython.display import HTML\n",
    "\n",
    "url = \"https://stacker.news/\"\n",
    "button = f\"\"\"\n",
    "<a href=\"{url}\" target=\"_blank\" style=\"display: inline-block; padding: 10px 20px; background-color: yellow; color: black; text-align: center; text-decoration: none; font-size: 16px; border-radius: 5px;\">Stacker News</a>\n",
    "\"\"\"\n",
    "\n",
    "HTML(button)"
   ]
  },
  {
   "cell_type": "markdown",
   "id": "3a00e6ba-3667-4eef-a6b3-bbf9a38130fe",
   "metadata": {},
   "source": [
    "#### THNDR Games"
   ]
  },
  {
   "cell_type": "markdown",
   "id": "6d7db015-5551-42ef-8e30-189c1d236fef",
   "metadata": {},
   "source": [
    "<img src=\"images/bloque_seis/thndrgames.png\" style=\"width:600px;\"/>"
   ]
  },
  {
   "cell_type": "code",
   "execution_count": null,
   "id": "0e9c8a61-2eff-4165-9a36-efc7b02bb38c",
   "metadata": {},
   "outputs": [],
   "source": [
    "from IPython.display import HTML\n",
    "\n",
    "url = \"https://www.thndr.gg/bitcoin-games/\"\n",
    "button = f\"\"\"\n",
    "<a href=\"{url}\" target=\"_blank\" style=\"display: inline-block; padding: 10px 20px; background-color: white; color: deeppink; text-align: center; text-decoration: none; font-size: 16px; border-radius: 5px;\">THNDR Games</a>\n",
    "\"\"\"\n",
    "\n",
    "HTML(button)"
   ]
  },
  {
   "cell_type": "markdown",
   "id": "00d8301c-a1d6-45b4-8f47-c673e13d5a03",
   "metadata": {},
   "source": [
    "### Taller interactivo sobre PGP"
   ]
  },
  {
   "cell_type": "markdown",
   "id": "491bff84-8eda-4ac3-8d8a-76033e5c8b2a",
   "metadata": {},
   "source": [
    "<img src=\"images/bloque_seis/pgp.png\" style=\"width:600px;\"/>"
   ]
  },
  {
   "cell_type": "markdown",
   "id": "fa4eb258-4503-4b6e-8129-139ace0f0965",
   "metadata": {},
   "source": [
    "**NOTA FINAL DE BLOQUE**"
   ]
  },
  {
   "cell_type": "markdown",
   "id": "0ea19f09-c90c-4776-aef9-f62824cb2c2c",
   "metadata": {},
   "source": [
    "**Desarrollo en Lightning con SDK**\n",
    "\n",
    "     Avanza tus habilidades de desarrollo en Lightning con formación intermedia en Rust y SDK.\n",
    "     \n",
    "     En este curso, aprenderás los conceptos básicos del libro de Rust, luego continuarás con la programación en LN utilizando SDK y finalizarás con algunos ejercicios prácticos. Nuestros profesores de diversos ámbitos te guiarán hacia habilidades prácticas y te explicarán los diversos desafíos a los que se enfrentan los ingenieros de LN en la actualidad.\n",
    "\n",
    "*Haz clic en el botón Plan B Network para acceder al curso:*"
   ]
  },
  {
   "cell_type": "markdown",
   "id": "7534658b-fafd-4a49-a78f-d54f9d610399",
   "metadata": {},
   "source": [
    "<a href=\"https://planb.network/es/courses/lnp402\"><img src=\"images/pbn.jpg\" style=\"width:300px;\"/></a>"
   ]
  }
 ],
 "metadata": {
  "kernelspec": {
   "display_name": "Python 3 (ipykernel)",
   "language": "python",
   "name": "python3"
  },
  "language_info": {
   "codemirror_mode": {
    "name": "ipython",
    "version": 3
   },
   "file_extension": ".py",
   "mimetype": "text/x-python",
   "name": "python",
   "nbconvert_exporter": "python",
   "pygments_lexer": "ipython3",
   "version": "3.10.12"
  }
 },
 "nbformat": 4,
 "nbformat_minor": 5
}
