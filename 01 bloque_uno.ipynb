{
 "cells": [
  {
   "cell_type": "markdown",
   "id": "4bc87977-f403-4387-a536-8e091f15c9ae",
   "metadata": {},
   "source": [
    "<h2 style=\"color:orange\"> ¡La privacidad importa, los cypherpunks escriben código! </h2>"
   ]
  },
  {
   "cell_type": "markdown",
   "id": "ed1d1f0d-d6e4-497e-93b3-e8e9db09a857",
   "metadata": {},
   "source": [
    "<img src=\"images/bloque_uno/bloque_uno_banner.png\" style=\"width:600px;\"/>"
   ]
  },
  {
   "cell_type": "markdown",
   "id": "4623f549-67f2-41e9-a915-025edb4b8bbe",
   "metadata": {},
   "source": [
    "#### La privacidad importa, hay un manifesto que nos puede explicar el porqué (B01-CPA)"
   ]
  },
  {
   "cell_type": "markdown",
   "id": "3858aa08-f4aa-4bf1-a4b6-9851e627d656",
   "metadata": {},
   "source": [
    "Por tanto, la privacidad en una sociedad abierta requiere sistemas de transacciones anónimas. Hasta ahora, el efectivo ha sido el principal sistema de este tipo. Un sistema de transacciones anónimas no es un sistema de transacciones secretas. Un sistema anónimo permite a las personas revelar su identidad cuando lo deseen y sólo cuando lo deseen; ésta es la esencia de la privacidad. Eric Hughes 1993"
   ]
  },
  {
   "cell_type": "code",
   "execution_count": null,
   "id": "b3513e83-c744-4377-84a8-fcaa8222e419",
   "metadata": {},
   "outputs": [],
   "source": [
    "from IPython.display import HTML\n",
    "\n",
    "url = \"https://www.activism.net/cypherpunk/manifesto.html\"\n",
    "button = f\"\"\"\n",
    "<a href=\"{url}\" target=\"_blank\" style=\"display: inline-block; padding: 10px 20px; background-color: #007bff; color: white; text-align: center; text-decoration: none; font-size: 16px; border-radius: 5px;\">CypherPunks</a>\n",
    "\"\"\"\n",
    "\n",
    "HTML(button)"
   ]
  },
  {
   "cell_type": "markdown",
   "id": "ed5b062f-4858-4245-ba8e-238373622f00",
   "metadata": {},
   "source": [
    "#### Tecnología que inspiró Bitcoin (B01-CPB)\n",
    "##### Los cypherpunk escriben código\n",
    "Movimiento Cypherpunk: Un grupo que aboga por el uso de la criptografía para asegurar la privacidad y la libertad en los espacios digitales."
   ]
  },
  {
   "cell_type": "markdown",
   "id": "86816829-643c-4c7c-97ca-35b7ce9b17c7",
   "metadata": {},
   "source": [
    "<h4 style=\"color:orange\"> >>> David Chaum </h4>"
   ]
  },
  {
   "cell_type": "markdown",
   "id": "b7698cf2-3844-4b1c-90a6-275154c76c88",
   "metadata": {},
   "source": [
    "<img src=\"images/bloque_uno/david_chaum.jpg\" style=\"width:400px;\"/>"
   ]
  },
  {
   "cell_type": "markdown",
   "id": "475c9054-79d7-4060-93ee-f91ac673e757",
   "metadata": {},
   "source": [
    "David Lee Chaum (nacido 1955) es el inventor de muchos protocolos criptográficos, así como ecash y DigiCash\n",
    "\n",
    "**eCash**, inventado por David Chaum, es un sistema de dinero electrónico anónimo que busca replicar las propiedades del efectivo físico en el mundo digital. La idea principal es permitir transacciones electrónicas sin revelar la identidad de las partes involucradas, protegiendo así la privacidad del usuario.\n",
    "\n",
    "Detalles de e-Cash\n",
    "**Necesita un Emisor (Banco)**: Un banco o institución financiera emite las monedas digitales.\n",
    "**Firma ciega (Blind Signature)**: Este es el concepto central que permite el anonimato, el banco firma para transacciones de los usuarios.\n",
    "**Doble gasto (Double Spending)**: En eCash, esto se resuelve mediante un protocolo que permite al banco detectar si una misma moneda se ha gastado más de una vez, aunque sin revelar la identidad del usuario, usando la firma ciega."
   ]
  },
  {
   "cell_type": "markdown",
   "id": "88022072-eaa6-48b6-b095-36accff06a7b",
   "metadata": {},
   "source": [
    "<h4 style=\"color:orange\"> >>> Adam Back </h4>"
   ]
  },
  {
   "cell_type": "markdown",
   "id": "6d0ddbaa-bcd1-4710-a2fc-ca5508323f7d",
   "metadata": {},
   "source": [
    "<img src=\"images/bloque_uno/adam_back.jpg\" style=\"width:400px;\"/>"
   ]
  },
  {
   "cell_type": "markdown",
   "id": "506ff3bc-a6c5-483c-ab6a-903ec05f9e4b",
   "metadata": {},
   "source": [
    "Adam Back (Londres, Reino Unido; julio de 1970) es un criptógrafo y cypherpunk británico. Es el CEO de **Blockstream**, empresa que cofundó en 2014. Inventó Hashcash, que se utiliza en el proceso de minería de **Bitcoin**. \n",
    "\n",
    "**Hashcash** fue una solución diseñada para combatir el spam generando una prueba de trabajo que permitía verificar la autenticidad del correo electrónico, es decir, hashcash es un algoritmo de prueba de trabajo que se utiliza para limitar los ataques de denegación de servicio y la cantidad de spam en los correos electrónicos."
   ]
  },
  {
   "cell_type": "code",
   "execution_count": null,
   "id": "1c845cde-76ee-44e2-b894-475c6835ad8e",
   "metadata": {},
   "outputs": [],
   "source": [
    "from IPython.display import HTML\n",
    "\n",
    "url = \"https://sha256algorithm.com/\"\n",
    "button = f\"\"\"\n",
    "<a href=\"{url}\" target=\"_blank\" style=\"display: inline-block; padding: 10px 20px; background-color: #e6811c; color: white; text-align: center; text-decoration: none; font-size: 16px; border-radius: 5px;\">SHA256 bits</a>\n",
    "\"\"\"\n",
    "\n",
    "HTML(button)"
   ]
  },
  {
   "cell_type": "markdown",
   "id": "5c4be18b-9f63-471f-b1b8-836bc40f0b62",
   "metadata": {},
   "source": [
    "<h4 style=\"color:orange\">  >>> Wei Dai </h4>"
   ]
  },
  {
   "cell_type": "markdown",
   "id": "e82c1f89-0ebc-4913-ba2f-f18bd46cc0d0",
   "metadata": {},
   "source": [
    "<img src=\"images/bloque_uno/wei_dai.jpeg\" style=\"width:400px;\"/>"
   ]
  },
  {
   "cell_type": "markdown",
   "id": "7ddbb689-3447-4151-b816-9c92aed3c0ec",
   "metadata": {},
   "source": [
    "**B-money**, propuesto por Wei Dai en 1998, fue una idea temprana para un sistema de dinero electrónico descentralizado.\n",
    "Wei Dai quería crear un sistema de dinero digital que no dependiera de un banco central ni de ninguna autoridad. Quería que fuera:\n",
    "    \n",
    "    * Anónimo: Las transacciones no revelarían la identidad de las personas involucradas\n",
    "    * Descentralizado: No controlado por una sola entidad\n",
    "    * Seguro: Difícil de falsificar o manipular\n",
    "\n",
    "Introdujo la idea de la \"prueba de trabajo\" (Proof-of-Work, PoW), similar a la que usa Bitcoin. La prueba de trabajo consiste en resolver un problema matemático complejo para poder crear nuevas monedas. Esto hace que sea costoso computacionalmente crear dinero, lo que dificulta la inflación y los ataques. **Pero nota que es más parecido a la minería de oro y a la de minerales, ya que necesita de un gasto de energía para generar más unidades de dinero, pero sin ningún limite. ¿Crees que con computadoras más avanzadas, la creación de monedas sería más alta?\n",
    "    \n",
    "\n",
    "    "
   ]
  },
  {
   "cell_type": "markdown",
   "id": "a5086fbc-cacb-4eb2-9af5-983989d95415",
   "metadata": {},
   "source": [
    "<h4 style=\"color:orange\">  >>> Nick Szabo </h4>"
   ]
  },
  {
   "cell_type": "markdown",
   "id": "558e5f87-49fb-4fde-a94d-46c886d895f5",
   "metadata": {},
   "source": [
    "<img src=\"images/bloque_uno/nick_szabo.jpeg\" style=\"width:400px;\"/>"
   ]
  },
  {
   "cell_type": "markdown",
   "id": "dc92133e-016c-44dc-b61d-8810d3e4cf50",
   "metadata": {},
   "source": [
    "**Bit Gold**, propuesto por Nick Szabo en 1998, fue otra importante propuesta temprana para un sistema de moneda digital descentralizado.\n",
    "Al igual que B-money de Wei Dai, nunca se implementó completamente, pero influyó de alguna manera en la creación de Bitcoin.\n",
    "\n",
    "Nick Szabo, buscaba crear una forma de dinero digital que tuviera las siguientes características:\n",
    "\n",
    "    * Escasez artificial: Al igual que el oro físico, debía ser difícil de producir, lo que le daría valor.\n",
    "    * Descentralización: No controlado por un gobierno ni una institución financiera.\n",
    "    * Seguridad: Resistente a la falsificación y al robo.\n",
    "\n"
   ]
  },
  {
   "cell_type": "markdown",
   "id": "a9504658-252c-4dab-91a8-4a9b48981a78",
   "metadata": {},
   "source": [
    "<h4 style=\"color:orange\">  >>> Hal Finney </h4>"
   ]
  },
  {
   "cell_type": "markdown",
   "id": "8f69daaa-12e1-4761-aef9-9a43e6c0d436",
   "metadata": {},
   "source": [
    "<img src=\"images/bloque_uno/hal_finney.jpg\" style=\"width:400px;\"/>"
   ]
  },
  {
   "cell_type": "markdown",
   "id": "02ff45a3-e3ca-4aa4-9062-92369b4ef1cd",
   "metadata": {},
   "source": [
    "**RPOW** fue inventado por Hal Finney como un prototipo para un dinero digital basado en la teoría de coleccionables de Nick Szabo. RPOW fue el único coleccionable digital que funcionó como un software. Un cliente RPOW crea un token RPOW proporcionando una cadena de prueba de trabajo de una dificultad determinada, firmada por su clave privada. El servidor luego registra ese token como perteneciente a la clave de firma. El cliente puede luego dar el token a otra clave firmando una orden de transferencia a una clave pública. El servidor luego registra debidamente el token como perteneciente a la clave privada correspondiente.\n",
    "Utiliza \"hashcash\", que son valores cuyo hash SHA-1 tiene muchos bits altos de cero. Estos hashcash requieren tiempo de computación para encontrarlos, pero son fáciles de verificar.\n",
    "\n",
    "    *Reutilización limitada: Los tokens POW normalmente no se pueden reutilizar para evitar el doble gasto.\n",
    "    Verificación de la integridad del servidor:\n",
    "\n",
    "    *RPOW permite a terceros verificar de forma dinámica y remota qué programa se está ejecutando en el servidor."
   ]
  },
  {
   "cell_type": "markdown",
   "id": "c1072098-0b02-4ca9-a7a7-33eaa7ffb103",
   "metadata": {},
   "source": [
    "#### Recuerdas que hablamos sobre transportabilidad del dinero, ¿qué tal si pudieras guardar y transportar tu dinero sólido en apenas 12 palabras?"
   ]
  },
  {
   "cell_type": "markdown",
   "id": "ac496486-afe2-489e-8211-d5cdd559a8af",
   "metadata": {},
   "source": [
    "[¿Recuerdas las propiedades del dinero?](bloque_genesis.ipynb)"
   ]
  },
  {
   "cell_type": "markdown",
   "id": "c921b320-5034-46d1-a8b8-4302d52dcac6",
   "metadata": {},
   "source": [
    "Las frases mnemónicas en **Bitcoin**: Una frase mnemónica, en el contexto de Bitcoin, es como una \"contraseña maestra\" pero en forma de una lista de palabras fáciles de recordar. Imagina que tienes una caja fuerte con mucho dinero (Tus Bitcoins o Satoshis).  \n",
    "En lugar de una combinación numérica complicada, tienes una frase con 12, 15, 18, 21 o 24 palabras comunes en un órden específico"
   ]
  },
  {
   "cell_type": "code",
   "execution_count": null,
   "id": "47c89441-4fa7-4c20-b9c8-f48ba23b5a9e",
   "metadata": {},
   "outputs": [],
   "source": [
    "pip install mnemonic"
   ]
  },
  {
   "cell_type": "code",
   "execution_count": null,
   "id": "e8e3acd2-3e91-46da-8a03-28b6eae11115",
   "metadata": {},
   "outputs": [],
   "source": [
    "from mnemonic import Mnemonic\n",
    "\n",
    "# Acá comienza el generador de la frase mnemónica.\n",
    "\n",
    "mnemo = Mnemonic()  # nombre de la variable a mnemo = Mnemonic(\"en inglés\")\n",
    "\n",
    "# Este programa creado para ti como estudiante de Node Nation 2025\n",
    "# Genera una frase mnemotécnica de 12 palabras (128 bits de entropía).\n",
    "# pero, uedes usar otros valores para la entropía: (intentalo luego en casa, después de la lección)\n",
    "# trata de crear 24 palabras modificándo el código de 128 bits a 256 bits \n",
    "# - 256 bits (24 palabras)\n",
    "\n",
    "palabras = mnemo.generate(strength=128)\n",
    "print(\"Esta es tu frase mnemotécnica generada:\", palabras)\n",
    "\n",
    "# Conviertiremos la frase mnemotécnica a una semilla (seed en inglés).\n",
    "# El segundo argumento es una passphrase opcional,\n",
    "# esto funciona como una palabra adicional creada por ti (contraseña).\n",
    "# Si no se usa una passphrase, se pasa una cadena vacía \"\".\n",
    "\n",
    "semilla = mnemo.to_seed(palabras, passphrase=\"bitcoincountry\")\n",
    "print(\"Esta es la semilla (seed) que generaste, está en formato hexadecimal:\", semilla.hex())\n",
    "\n",
    "# Verifica si una frase mnemotécnica es válida.\n",
    "es_valida = mnemo.check(palabras)\n",
    "print(\"¿Es válida la frase mnemotécnica?:\", es_valida)\n",
    "\n",
    "# Obtiene la lista de palabras BIP39 en inglés.\n",
    "# La forma de obtener la lista depende de la versión de la librería mnemonic.\n",
    "# En versiones más antiguas, mnemo.wordlist es una lista directamente.\n",
    "# En versiones más recientes, es un diccionario donde las claves son las palabras.\n",
    "\n",
    "if isinstance(mnemo.wordlist, dict):\n",
    "    # Si es un diccionario, obtenemos las claves (las palabras).\n",
    "    palabras_bip39_lista = list(mnemo.wordlist.keys())\n",
    "elif isinstance(mnemo.wordlist, list):\n",
    "    # Si es una lista, la asignamos directamente.\n",
    "    palabras_bip39_lista = mnemo.wordlist\n",
    "else:\n",
    "    # Manejo de error por si acaso no es ni lista ni diccionario.\n",
    "    raise TypeError(\"mnemo.wordlist no es ni un diccionario ni una lista\")\n",
    "\n",
    "print(\"Primeras 10 palabras BIP39 en inglés:\", palabras_bip39_lista[:10])\n",
    "\n",
    "# Ejemplo de cómo verificar si una palabra está en la lista BIP39 en inglés.\n",
    "palabra_a_verificar = \"toast\" #Palabra de ejemplo, se puede cambiar por cualquier otra\n",
    "if isinstance(mnemo.wordlist, dict):\n",
    "    if palabra_a_verificar in mnemo.wordlist:\n",
    "        print(f\"La palabra '{palabra_a_verificar}' está en la lista BIP39 en inglés.\")\n",
    "    else:\n",
    "        print(f\"La palabra '{palabra_a_verificar}' NO está en la lista BIP39 en inglés.\")\n",
    "elif isinstance(mnemo.wordlist, list):\n",
    "    if palabra_a_verificar in mnemo.wordlist:\n",
    "        print(f\"La palabra '{palabra_a_verificar}' está en la lista BIP39 en inglés.\")\n",
    "    else:\n",
    "        print(f\"La palabra '{palabra_a_verificar}' NO está en la lista BIP39 en inglés.\")\n"
   ]
  },
  {
   "cell_type": "markdown",
   "id": "b29d8438-703c-4a4d-89b2-eed9b320d4a5",
   "metadata": {},
   "source": [
    "<h4 style=\"color:cyan\">Nuestras 12 palabras visitan Sparrow Wallet </h4>"
   ]
  },
  {
   "cell_type": "markdown",
   "id": "7a9ddf94-2fd8-4334-ad02-0a22e00a2a2f",
   "metadata": {},
   "source": [
    "<img src=\"images/bloque_uno/sparrow_wallet.png\" style=\"width:400px;\"/>"
   ]
  },
  {
   "cell_type": "markdown",
   "id": "3964140d-8273-4f0b-a186-64ee6d1b8e7a",
   "metadata": {},
   "source": [
    "Hay muchas billeteras donde podemos usar nuestras recién creadas 12 palabras para poder recibir y enviar Bitcoin, **Esta no es una manera segura de hacerlo** tus 12 palabras jamás deberían estar en un dispositivo conectado a internet, pero creemos que una actividad divertida y queremos mostrarte como importar tus 12 palabras a una billetera de escritorio.\n",
    "Puedes leer más sobre sparrow wallet y como descargarla en el enlace a continuación, pero nosotros vamos a trabajar en nuestra máquina virtual que tiene previamente instalada la aplicación."
   ]
  },
  {
   "cell_type": "code",
   "execution_count": null,
   "id": "c622c9a6-9115-4c07-8c9f-bb39e9ac418d",
   "metadata": {},
   "outputs": [],
   "source": [
    "from IPython.display import HTML\n",
    "\n",
    "url = \"https://sparrowwallet.com/\"\n",
    "button = f\"\"\"\n",
    "<a href=\"{url}\" target=\"_blank\" style=\"display: inline-block; padding: 10px 20px; background-color: blue; color: white; text-align: center; text-decoration: none; font-size: 16px; border-radius: 5px;\">Sparrow Wallet</a>\n",
    "\"\"\"\n",
    "\n",
    "HTML(button)"
   ]
  },
  {
   "cell_type": "markdown",
   "id": "d65de253-466f-4506-8a73-7225e710343b",
   "metadata": {},
   "source": [
    "<h4 style=\"color:cyan\"> ¿De dónde viene nuestra llave privada que generan las 12 palabras? </h4>"
   ]
  },
  {
   "cell_type": "markdown",
   "id": "9f23c94b-2036-4bec-9c84-0c551d7df573",
   "metadata": {},
   "source": [
    "**La Criptografía de Curva Elíptica (ECC, por sus siglas en inglés)**\n",
    "la **ECC** es un tipo de función criptográfica unidireccional, es decir, permite convertir una entrada (input) en una salida (output) de tal manera que sea inviable obtener los datos de entrada original a partir de la salida.\n",
    "\n",
    "Teniendo este concepto en mente y aplicándolo a Bitcoin, ECC es esencial en un paso crucial: la derivación de la Clave Pública a partir de la Clave Privada. Sin una función unidireccional como ECC, cuando compartiésemos nuestra clave pública, nuestra clave privada se vería expuesta y, por tanto, un atacante podría obtener nuestros fondos. De ahí que sea tan necesaria una función unidireccional como ECC."
   ]
  },
  {
   "cell_type": "code",
   "execution_count": null,
   "id": "20ea3f16-f24b-4517-8365-d7f13316a8df",
   "metadata": {},
   "outputs": [],
   "source": [
    "!pip install matplotlib"
   ]
  },
  {
   "cell_type": "code",
   "execution_count": null,
   "id": "acab8363-00eb-4f85-b68c-61b6517df77c",
   "metadata": {},
   "outputs": [],
   "source": [
    "import matplotlib.pyplot as plt\n",
    "import numpy as np\n",
    "\n",
    "# Parámetros de secp256k1\n",
    "a = 0\n",
    "b = 7\n",
    "\n",
    "# Rango de valores de x para la visualización (ajustar según sea necesario)\n",
    "x = np.linspace(-3, 3, 400) #Se ajusta el rango para que se vea una porción interesante de la curva\n",
    "\n",
    "#Calculamos los valores, teniendo en cuenta que puede dar numeros complejos\n",
    "def calcular_y(x,a,b):\n",
    "    resultados = []\n",
    "    for valor_x in x:\n",
    "        try:\n",
    "            y = np.sqrt(valor_x**3 + a*valor_x + b)\n",
    "            resultados.append((valor_x, y))\n",
    "            resultados.append((valor_x, -y))\n",
    "        except:\n",
    "            pass\n",
    "    return resultados\n",
    "\n",
    "puntos = calcular_y(x,a,b)\n",
    "puntos_x = [punto[0] for punto in puntos]\n",
    "puntos_y = [punto[1] for punto in puntos]\n",
    "\n",
    "# Graficamos la curva\n",
    "plt.figure(figsize=(6, 6))\n",
    "plt.plot(puntos_x, puntos_y, 'b', label='y^2 = x^3 + 7') \n",
    "plt.title(f'Representación Visual de secp256k1 con Node Nation: y^2 = x^3 + {a}x + {b}')\n",
    "plt.xlabel('x')\n",
    "plt.ylabel('y')\n",
    "plt.grid(True)\n",
    "plt.axhline(0, color='black', linewidth=0.5)\n",
    "plt.axvline(0, color='black', linewidth=0.5)\n",
    "plt.legend()\n",
    "plt.show()"
   ]
  },
  {
   "cell_type": "markdown",
   "id": "9568c12b-2dda-4ef8-af3a-978a7f0bd141",
   "metadata": {},
   "source": [
    "<h3 style=\"color:orangered\">Generemos 12 palabras más con un simulador muy divertido! <strong>Cold Card Wallet<strong> </h3>"
   ]
  },
  {
   "cell_type": "markdown",
   "id": "a22b4654-2e7f-4f85-822e-21daadf77013",
   "metadata": {},
   "source": [
    "<img src=\"images/bloque_uno/coldcard_q.png\" style=\"width:600px;\"/>"
   ]
  },
  {
   "cell_type": "markdown",
   "id": "bd32b373-b49d-486d-a8f1-972a0e3d214b",
   "metadata": {},
   "source": [
    "Ahora conozcamos sobre **entropía** jugando con un dado mientras generamos una semilla temporal en una Billeteras fría"
   ]
  },
  {
   "cell_type": "code",
   "execution_count": null,
   "id": "4535a8a4-3081-4019-96b4-f71fd6740ad6",
   "metadata": {},
   "outputs": [],
   "source": [
    "from IPython.display import HTML\n",
    "\n",
    "url = \"https://github.com/Coldcard/firmware\"\n",
    "button = f\"\"\"\n",
    "<a href=\"{url}\" target=\"_blank\" style=\"display: inline-block; padding: 10px 20px; background-color: #f5550A; color: white; text-align: center; text-decoration: none; font-size: 16px; border-radius: 5px;\">Firmware</a>\n",
    "\"\"\"\n",
    "\n",
    "HTML(button)"
   ]
  },
  {
   "cell_type": "markdown",
   "id": "e15c2144-3941-4779-af92-8ed1e45c9874",
   "metadata": {},
   "source": [
    "**LINUX**\n",
    "Una vez instalado el firmware, vamos a generar una semilla temporal, en la terminal, siguiendo los pasos a continuación:\n",
    "    \n",
    "**Pasos para cargar el simulador usando la terminal**\n",
    "    \n",
    "    * cd firmware/\n",
    "    * source ENV/bin/activate\n",
    "    * cd unix/\n",
    "    * ./simulator.py\n",
    "\n",
    "**Pasos para crear una semilla temporal**\n",
    "\n",
    "    *opción Advance tools\n",
    "        - Elige la opción crear una Temporary seed (12 palabras)\n",
    "        - Elige la opción crear lanzando un dado (roll dice)\n",
    "        - Escribe números del 1 al 6 según las cantidades de veces que has lanzado el dado\n",
    "        - Verifica tus 12 palabras generadas\n",
    "        - No olvides anotar tus 12 palabras y el fingerprint\n",
    "\n",
    "**Pasos para Exportar tu billetera**\n",
    "\n",
    "    *Opción Advance tools\n",
    "        - Elige la opción Export wallet\n",
    "        - Generic Json file\n",
    "        - El archivo generado es almacenado en ~/firmware/unix/work/microSD"
   ]
  },
  {
   "cell_type": "markdown",
   "id": "9adec9d0-0862-4825-9cfe-cd1817423b1f",
   "metadata": {},
   "source": [
    "<h3 style=\"color:orange\">Ahora importemos esas doce palabras en <strong>Sparrow Wallet<strong></h3>"
   ]
  },
  {
   "cell_type": "markdown",
   "id": "1d320ca6-273f-4d16-b536-1a6eef108fea",
   "metadata": {},
   "source": [
    "(sudo dpkg -i sparrow...)\n",
    "Recuerda reiniciar Sparrow Wallet en modo Testnet o no podrás ingresar las doce palabras:\n",
    "    \n",
    "    * Menú Tools\n",
    "        - Restart in testnet"
   ]
  },
  {
   "cell_type": "markdown",
   "id": "a22c43f5-1c15-4d97-a048-6adde1675ad5",
   "metadata": {},
   "source": [
    "<img src=\"images/bloque_uno/import_sparrow_wallet.png\" style=\"width:600px;\"/>"
   ]
  },
  {
   "cell_type": "markdown",
   "id": "52cc4448-35aa-4ab3-98d1-8c8bda5c37d7",
   "metadata": {},
   "source": [
    "Luego haz clic en la opción:\n",
    "\n",
    "    * Menú File / import wallet\n",
    "        - Elige la opción coldcard / Import File\n",
    "        - busca el archivo generado en la calculadora de ECC en ~/firmware/unix/work/microSD/ nommbre_del_archivo.Json\n",
    "        - Puedes Nombrar tu billetera como gustes\n",
    "        - Puedes agregar un Password a Sparrow Wallet (esto sólo es para proteger el acceso a tu billetera)\n",
    "        - Sparrow Wallet no tiene tus llaves privadas, \"pregunta al educador al respecto\""
   ]
  },
  {
   "cell_type": "markdown",
   "id": "ea155db8-52e6-490a-a0e5-29e6e02189bb",
   "metadata": {},
   "source": [
    "<h3 style=\"color:blue\">Juguemos a firmar un mensaje usando nuestras <strong>llaves privadas<strong></h3>"
   ]
  },
  {
   "cell_type": "markdown",
   "id": "2e1fbf9e-af9a-4165-9513-f58485416260",
   "metadata": {},
   "source": [
    "La idea detrás de esta actividad es utilizar el **arcihvo txt** que has preparado al final del bloque génesis,\n",
    "¿recuerdas? vamos a firmarlo con tu propia llave privada y a verificar que has sido tú quien lo firmó con la ayuda de un compañero de clases, o bien puedes hacerlo tú mismo.\n",
    "\n",
    "Vamos a generar otra llave privada y pública pero usando la herramienta en línea,\n",
    "**NOTA IMPORTANTE** _esto es sólo con propósitos educativos, no utilices jamás este u otros sitios en internet para generar tu llave privada._"
   ]
  },
  {
   "cell_type": "code",
   "execution_count": null,
   "id": "2afc0f5b-b666-4e03-8256-215d896a6d5c",
   "metadata": {},
   "outputs": [],
   "source": [
    "from IPython.display import HTML\n",
    "\n",
    "url = \"https://brainwalletx.github.io/\"\n",
    "button = f\"\"\"\n",
    "<a href=\"{url}\" target=\"_blank\" style=\"display: inline-block; padding: 10px 20px; background-color: blue; color: white; text-align: center; text-decoration: none; font-size: 16px; border-radius: 5px;\">Firmware</a>\n",
    "\"\"\"\n",
    "\n",
    "HTML(button)"
   ]
  },
  {
   "cell_type": "markdown",
   "id": "265b117b-087f-4c9f-962d-64450a878bce",
   "metadata": {},
   "source": [
    "**-->Escribe tu mensaje con la firma en esta casilla<--**"
   ]
  },
  {
   "cell_type": "code",
   "execution_count": null,
   "id": "53a118ee-51ca-4f9c-9859-a622cf64f387",
   "metadata": {},
   "outputs": [],
   "source": [
    "-----BEGIN BITCOIN SIGNED MESSAGE-----\n",
    "la passphrase de este mensaje fue: \"bitcoin\"\n",
    "-----BEGIN SIGNATURE-----\n",
    "1E984zyYbNmeuumzEdqT8VSL8QGJi3byAD\n",
    "G3oju/9LjZFN1cDBrKG6Dxlo/Jf7+qN2jJ7PIMdwk4Y4PjfXzpm6nEYqML29WGEuWvv/T+REO4FVaGyzGQWL410=\n",
    "-----END BITCOIN SIGNED MESSAGE-----"
   ]
  },
  {
   "cell_type": "markdown",
   "id": "343eb9ad-da16-4691-9203-0c2ac1a7404d",
   "metadata": {},
   "source": [
    "<img src=\"images/bloque_uno/verify.png\" style=\"width:600px;\"/>"
   ]
  },
  {
   "cell_type": "markdown",
   "id": "941f2144-27dd-4259-832c-ed3ddf5f11b7",
   "metadata": {},
   "source": [
    "**NOTA FINAL DE BLOQUE**"
   ]
  },
  {
   "cell_type": "markdown",
   "id": "b0408bc8-ab71-44d1-8547-b487f8fe4c16",
   "metadata": {},
   "source": [
    "**El Funcionamiento Interno de las Carteras de Bitcoin**\n",
    "\n",
    "    Aprende sobre los mecanismos de las funciones hash, firmas digitales (ECDSA y Schnorr), frases mnemotécnicas, claves criptográficas y la creación de direcciones de recepción, todo mientras exploras estrategias de seguridad avanzadas.\n",
    "\n",
    "*Haz clic en el botón Plan B Network para acceder al curso:*\n"
   ]
  },
  {
   "cell_type": "markdown",
   "id": "043ec25d-39a2-4149-95a7-ef4dab631857",
   "metadata": {},
   "source": [
    "<a href=\"https://planb.network/es/courses/cyp201\"><img src=\"images/pbn.jpg\" style=\"width:300px;\"/></a>"
   ]
  }
 ],
 "metadata": {
  "kernelspec": {
   "display_name": "Python 3 (ipykernel)",
   "language": "python",
   "name": "python3"
  },
  "language_info": {
   "codemirror_mode": {
    "name": "ipython",
    "version": 3
   },
   "file_extension": ".py",
   "mimetype": "text/x-python",
   "name": "python",
   "nbconvert_exporter": "python",
   "pygments_lexer": "ipython3",
   "version": "3.10.12"
  }
 },
 "nbformat": 4,
 "nbformat_minor": 5
}
