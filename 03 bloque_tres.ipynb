{
 "cells": [
  {
   "cell_type": "markdown",
   "id": "f1f069a9-c3f4-4997-af09-a72f9e94b87b",
   "metadata": {},
   "source": [
    "<h2 style=\"color:orange\"> Agregando nuevos bloques a Bitcoin, <strong>Minería de Bitcoin</strong> </h2>"
   ]
  },
  {
   "cell_type": "markdown",
   "id": "04d816f9-6c2f-4c84-9c05-d671b4643e46",
   "metadata": {},
   "source": [
    "<img src=\"images/bloque_tres/bloque_tres_banner.png\" style=\"width:600px;\"/>"
   ]
  },
  {
   "cell_type": "markdown",
   "id": "8b22248b-5143-4216-bcef-bacf97f2b8c2",
   "metadata": {},
   "source": [
    "En términos simples, la minería es la manera en la que se agregan transacciones a Bitcoin, recuerda que cada uno de los nodos tiene una mempool como lo explicamos en el bloque anterior, estás transacciones aún no forman parte de las transacciones que están escritas para siempre en el libro contable de bitcoin.\n",
    "\n",
    "Cuando un usuario envía Bitcoin a otro usuario de Bitcoin:\n",
    "    \n",
    "    - la transacción después de ser firmada por la llave privada, es propagada a la red de nodos de Bitcoin\n",
    "    - la transacción ahora pertenece a la mempool de los nodos\n",
    "    - la transacción debe ser agregada a un bloque que aún no forma parte de la cadena de bloques de bitcoin (se le llama plantilla de bloque, block template)\n",
    "    - el bloque con la transacción incluída será agregado a la cadena de bloques de Bitcoin mediante un proceso llamado minería."
   ]
  },
  {
   "cell_type": "markdown",
   "id": "8855f1c6-ae57-47de-8dd1-dba8e63499b1",
   "metadata": {},
   "source": [
    "### Aprendamos conceptos claves mientras jugamos a la minería"
   ]
  },
  {
   "cell_type": "markdown",
   "id": "66af7461-4cb3-4c5c-b286-2e907ad590e6",
   "metadata": {},
   "source": [
    "**Mempool**:\n",
    "\n",
    "    Definición: Memoria de transacciones, es como una sala de espera antes de que las transacciones de Bitcoin sean incluidas en un bloque. Aquí se almacenan temporalmente todas las transacciones que esperan ser añadidas a un bloque para luego ser minadas."
   ]
  },
  {
   "cell_type": "markdown",
   "id": "dc07ba29-c82c-4471-9e25-373a634270b1",
   "metadata": {},
   "source": [
    "**Coinbase**:\n",
    "\n",
    "    Definición: La coinbase es la primera transacción de cada nuevo bloque en la cadena de bloques de Bitcoin. esta es la manera en como el sistema de Bitcoin distribuye la emisión de bitcoins y donde se recompensa al minero por encontrar un hash menor que el de la dificultad actual y así añadir el bloque a la cadena."
   ]
  },
  {
   "cell_type": "markdown",
   "id": "47d082a2-a5dc-4a70-b647-1cd9a3427774",
   "metadata": {},
   "source": [
    "**Blocktemplate**:\n",
    "\n",
    "    Definición: Un blocktemplate es una estructura de datos que contiene toda la información necesaria para crear un nuevo bloque de Bitcoin. Esta estructura incluye las transacciones que se incluirán en el bloque, la dificultad de minado, el hash del bloque previo y el numero de bloque, entre otros."
   ]
  },
  {
   "cell_type": "markdown",
   "id": "c5cdc7b7-4520-4ef5-85bd-4202ea232953",
   "metadata": {},
   "source": [
    "**SHA256**:\n",
    "\n",
    "    Definición: SHA256 es una función hash que toma un conjunto de datos de cualquier tamaño y el resultado siempre será una cadena de caracteres de 256 bits (64 caracteres hexadecimales, 32 bytes). Esta cadena de caracteres es única para los datos de entrada y es prácticamente imposible de revertir para encontrar los datos originales."
   ]
  },
  {
   "cell_type": "markdown",
   "id": "b47d4627-f214-4b73-b8fe-d8c1d93a178b",
   "metadata": {},
   "source": [
    "**Nonce**:\n",
    "\n",
    "    Definición: Un nonce es un número que se utiliza solo una vez. En el contexto de Bitcoin, el nonce es un número que los mineros modifican en el blocktemplate para encontrar el hash correcto y añadir un nuevo bloque a la cadena de bloques de Bitcoin."
   ]
  },
  {
   "cell_type": "markdown",
   "id": "92886dc6-e252-4076-a625-2bf10b1ebc52",
   "metadata": {},
   "source": [
    "**Minero**:\n",
    "\n",
    "    Definición: Un minero es una persona o compañía que utiliza hardware especializado (como el Nerdminer o Bitaxe) para buscar por medio del algorítmo SHA256 bits un hash menor que al de la dificultad actual de Bitcoin y así añadir nuevos bloques a la cadena de bloques de Bitcoin.\n",
    "    NOTA: los datos introducidos en el algorítmo de seguridad de hash es la cabecera del bloque (blocktemplate)."
   ]
  },
  {
   "cell_type": "markdown",
   "id": "6e545c88-9068-4ec9-a3b2-af5916dcccfb",
   "metadata": {},
   "source": [
    "**Mining pool**:\n",
    "\n",
    "    Definición: Un mining pool es una agrupación de mineros que combinan su poder de cómputo para aumentar sus posibilidades de encontrar un bloque y obtener la recompensa."
   ]
  },
  {
   "cell_type": "markdown",
   "id": "5b02e508-b8f1-42d6-8b87-406f27ea85a0",
   "metadata": {},
   "source": [
    "**Halving**:\n",
    "\n",
    "    Definición: El halving es un evento programado en de Bitcoin que reduce a la mitad la cantidad de la transacción coinbase cada 210 mil bloques. Esto significa que cada cuatro años aproximadamente, la cantidad de nuevos Bitcoins creados por bloque se reduce a la mitad.\n",
    "    Nota: se estima que para el 2140 los bloques de Bitcoin ya no tendrán la recompensa coinbase, pero los mineros podrás seguir operando gracias a las comisiones de transacción."
   ]
  },
  {
   "cell_type": "markdown",
   "id": "ac3afe55-97eb-4593-82a8-701bc1d4090b",
   "metadata": {},
   "source": [
    "### Jueguemos a **instalar** un software de minería (*Flash NerdMiner*) en un **microcontrolador** (*ESP32-Wroom*)"
   ]
  },
  {
   "cell_type": "markdown",
   "id": "c9b543d4-b2fa-40b9-95bc-dc8603906d7d",
   "metadata": {},
   "source": [
    "<img src=\"images/bloque_tres/nerdminer.jpg\" style=\"width:600px;\"/>"
   ]
  },
  {
   "cell_type": "markdown",
   "id": "6a624b5b-7696-4558-933a-bfcb2f082b64",
   "metadata": {},
   "source": [
    "**Guía de Flasheo para NerdMinerV2 en un ESP32 W-room**"
   ]
  },
  {
   "cell_type": "markdown",
   "id": "8da1e55c-dae4-422a-ad2e-2e4a19c0ec02",
   "metadata": {},
   "source": [
    "Lo primero que debemos hacer es asegurarnos de que el ESP32 y la computadora tengan comunicación, el ESP32-WRoom tiene un chip llamado CP210x para este propósito \n",
    "\n",
    "        -Instalaremos un driver (programa para comunicación del chip a la computadora)"
   ]
  },
  {
   "cell_type": "code",
   "execution_count": null,
   "id": "d7359ec4-d382-45c9-9835-4b0e71d59316",
   "metadata": {},
   "outputs": [],
   "source": [
    "from IPython.display import HTML\n",
    "\n",
    "url = \"        https://www.silabs.com/developer-tools/usb-to-uart-bridge-vcp-drivers?tab=downloads\"\n",
    "button = f\"\"\"\n",
    "<a href=\"{url}\" target=\"_blank\" style=\"display: inline-block; padding: 10px 20px; background-color: brown; color: white; text-align: center; text-decoration: none; font-size: 16px; border-radius: 5px;\">CP210x driver</a>\n",
    "\"\"\"\n",
    "\n",
    "HTML(button)"
   ]
  },
  {
   "cell_type": "markdown",
   "id": "0665a0a0-388d-4f93-92f6-b8b7497f43d7",
   "metadata": {},
   "source": [
    "Visita la página web de bitronics, para subir el programa que mina Bitcoins en un microcontrolador:\n",
    "\n",
    "    * Elige el tipo de microcontrolador en el que quieres instalar el programa\n",
    "    * haz clic en Flash"
   ]
  },
  {
   "cell_type": "code",
   "execution_count": null,
   "id": "b2e7ed04-b7c3-4283-ae0d-21e48e885d1f",
   "metadata": {},
   "outputs": [],
   "source": [
    "from IPython.display import HTML\n",
    "\n",
    "url = \"https://flasher.bitronics.store/\"\n",
    "button = f\"\"\"\n",
    "<a href=\"{url}\" target=\"_blank\" style=\"display: inline-block; padding: 10px 20px; background-color: yellow; color: black; text-align: center; text-decoration: none; font-size: 16px; border-radius: 5px;\">Bitronics Flash</a>\n",
    "\"\"\"\n",
    "\n",
    "HTML(button)"
   ]
  },
  {
   "cell_type": "markdown",
   "id": "6bd0cb12-9ea5-4877-b0db-4a33bf535fef",
   "metadata": {},
   "source": [
    "<img src=\"images/bloque_tres/nerdminer_uart.png\" style=\"width:600px;\"/>"
   ]
  },
  {
   "cell_type": "markdown",
   "id": "6491b939-0d68-4f27-8894-fcd3c4f546d2",
   "metadata": {},
   "source": [
    "Una vez que el proceso de Flash (instalar el programa en el microcontrolador ESP32-Wroom):\n",
    "\n",
    "    * Desconectar el ESP32-Wroom y conectarlo nuevamente\n",
    "    * Después de la programación, solo necesitará configurar su Wifi y su dirección BTC.\n",
    "\n",
    "    Punto de acceso Wifi\n",
    "\n",
    "        - Conéctate con tu dispositivo al punto de acceso recién creado en tu NerdMinerAP\n",
    "        - Wifi (punto de acceso): NerdMinerAP\n",
    "        - Wifi Contraseña de wifi (punto de acceso): MineYourCoins\n",
    "        - Configure su red Wifi\n",
    "            * Cambia SSID por el nombre de tu wifi\n",
    "            * Cambia SSID Password por la contraseña de tu wifi\n",
    "        - Agregue su dirección BTC (crea una dirección Bitcoin para comenzar a minar)\n",
    "        - Cambie la contraseña si es necesario\n",
    "        \n",
    "        || Datos del pool de minería ||\n",
    "        - Pool URL: public-pool.io\n",
    "        - Port: 21496\t\n",
    "        - Web URL: https://web.public-pool.io\n",
    "        \n",
    "        Nota: si no se proporciona la dirección BTC de su billetera seleccionada, la minería no se iniciará."
   ]
  },
  {
   "cell_type": "markdown",
   "id": "c247dd4e-75fd-4940-b3dd-93b3877b1fe2",
   "metadata": {},
   "source": [
    "<img src=\"images/bloque_tres/nerdminer_2.jpg\" style=\"width:600px;\"/>"
   ]
  },
  {
   "cell_type": "markdown",
   "id": "1253b4fe-51c6-4ad4-9c37-f7f53e8c45b5",
   "metadata": {},
   "source": [
    "Ahora verás que el punto de acceso creado **NerdMinerAP** ya no está disponible y en tu microcontrolador comienza a parpadear una luz azul del GPIO2 Felicidades!!! Esto significa que lo has conseguido!\n",
    "\n",
    "*Ya estás minando Bitcoin, vamos por ese hash ganador!*"
   ]
  },
  {
   "cell_type": "markdown",
   "id": "54461037-1d83-45ae-9d45-733fc069f654",
   "metadata": {},
   "source": [
    "Por último, puedes ver las estadísticas de tu minero en unos minutos, en la siguiente dirección del pool de minería que configuramos:\n",
    "\n",
    "    * Copia la dirección bitcoin con la que configuraste tu ESP32 en el campo login"
   ]
  },
  {
   "cell_type": "code",
   "execution_count": null,
   "id": "50162b30-a10a-4d85-8881-3a5a61f1152d",
   "metadata": {},
   "outputs": [],
   "source": [
    "from IPython.display import HTML\n",
    "\n",
    "url = \"https://web.public-pool.io/#/\"\n",
    "button = f\"\"\"\n",
    "<a href=\"{url}\" target=\"_blank\" style=\"display: inline-block; padding: 10px 20px; background-color: navy; color: white; text-align: center; text-decoration: none; font-size: 16px; border-radius: 5px;\">Public Pool</a>\n",
    "\"\"\"\n",
    "\n",
    "HTML(button)"
   ]
  },
  {
   "cell_type": "markdown",
   "id": "50427a7b-f6f0-4e2b-8d9f-a9c1e4840078",
   "metadata": {},
   "source": [
    "**NOTA FINAL DE BLOQUE**"
   ]
  },
  {
   "cell_type": "markdown",
   "id": "be778086-e03e-4e04-90a6-3540f772bafe",
   "metadata": {},
   "source": [
    "**¡Tus primeros pasos en la minería!**\n",
    "\n",
    "     Comprender el funcionamiento de la industria minera a través de un ejercicio práctico de reutilización de ASICs.\n",
    "\n",
    "*Haz clic en el botón Plan B Network para acceder al curso:*"
   ]
  },
  {
   "cell_type": "markdown",
   "id": "e55a81a9-6d85-4496-92ab-c61b26682d9a",
   "metadata": {},
   "source": [
    "<a href=\"https://planb.network/es/courses/introduccion-a-la-mineria-de-bitcoin-ce272232-0d97-4482-884a-0f77a2ebc036\"><img src=\"images/pbn.jpg\" style=\"width:300px;\"/></a>"
   ]
  },
  {
   "cell_type": "code",
   "execution_count": null,
   "id": "9d633d84-62ea-4f29-8ca9-e97a64e8c526",
   "metadata": {},
   "outputs": [],
   "source": []
  }
 ],
 "metadata": {
  "kernelspec": {
   "display_name": "Python 3 (ipykernel)",
   "language": "python",
   "name": "python3"
  },
  "language_info": {
   "codemirror_mode": {
    "name": "ipython",
    "version": 3
   },
   "file_extension": ".py",
   "mimetype": "text/x-python",
   "name": "python",
   "nbconvert_exporter": "python",
   "pygments_lexer": "ipython3",
   "version": "3.10.12"
  }
 },
 "nbformat": 4,
 "nbformat_minor": 5
}
