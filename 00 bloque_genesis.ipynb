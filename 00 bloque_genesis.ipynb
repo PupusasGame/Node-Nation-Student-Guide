{
 "cells": [
  {
   "cell_type": "markdown",
   "id": "26040182-5a44-4285-949e-1065fa91d9f7",
   "metadata": {},
   "source": [
    "<h2 style=\"color:orange\"> Bitcoin es dinero sólido </h2>"
   ]
  },
  {
   "cell_type": "markdown",
   "id": "c15edf08-47f3-4a79-a079-1a08f084be79",
   "metadata": {},
   "source": [
    "<img src=\"images/bloque_genesis/bloque_genesis_banner.png\" style=\"width:600px;\"/>"
   ]
  },
  {
   "cell_type": "markdown",
   "id": "11b20b48-99eb-40da-a85a-d495db6aa211",
   "metadata": {},
   "source": [
    "## >> Funciones del dinero sólido y ¡porque importa! "
   ]
  },
  {
   "cell_type": "markdown",
   "id": "3d1af042-656f-4fb5-bdcd-e9faa547acd3",
   "metadata": {},
   "source": [
    "#### Reserva de valor"
   ]
  },
  {
   "cell_type": "markdown",
   "id": "f23bde06-36e7-421b-ba76-9810c9f65ec4",
   "metadata": {},
   "source": [
    "Tu dinero debe que tener la función de poder guardar su valor con el tiempo sin importar la cantidad que guardes, esto te permite poder almacenar tu riqueza para el futuro. Recuerda que trabajaste por él, no sería justo que pierda su valor con el tiempo devaluando tu esfuerzo por ganarlo, ¿cierto?"
   ]
  },
  {
   "cell_type": "markdown",
   "id": "979eede0-d037-45ae-accf-69ec417a9671",
   "metadata": {},
   "source": [
    "<img src=\"images/bloque_genesis/reserva_valor.jpg\" style=\"width:600px;\"/>"
   ]
  },
  {
   "cell_type": "markdown",
   "id": "0f2c9ffe-d255-4d77-ac5f-37264e29def3",
   "metadata": {},
   "source": [
    "#### Medio de intercambio"
   ]
  },
  {
   "cell_type": "markdown",
   "id": "72aec47e-8129-491c-bb08-320679daf37c",
   "metadata": {},
   "source": [
    "Lo bueno del dinero sólido es que no tienes que esperar que alguien esté interesado en lo que tienes para intercambiar por un bien o servicio, un dinero sólido es altamente aceptado por sus funciones y propiedades."
   ]
  },
  {
   "cell_type": "markdown",
   "id": "4742e1ed-3770-4df9-96c9-edcfb76c76f5",
   "metadata": {},
   "source": [
    "<img src=\"images/bloque_genesis/medio_intercambio.png\" style=\"width:600px;\"/>"
   ]
  },
  {
   "cell_type": "markdown",
   "id": "3bd36d47-ca89-4ed1-9c8c-05061b8db5a6",
   "metadata": {},
   "source": [
    "#### Unidad de cuenta"
   ]
  },
  {
   "cell_type": "markdown",
   "id": "514abe13-84eb-468c-8737-9165a6ebbfb6",
   "metadata": {},
   "source": [
    "El dinero que usas, debe poseer la función de unidad de cuenta, lo que te permite valorar tus productos o servicios estableciendo una cantidad de dinero específica para cada uno de ellos, esta es la cantidad que otras personas deberán pagar por contratar tus servicios o tus productos."
   ]
  },
  {
   "cell_type": "markdown",
   "id": "d32ba410-30e6-4bee-b505-f3f23da1bb53",
   "metadata": {},
   "source": [
    "<img src=\"images/bloque_genesis/unidad_cuenta.jpg\" style=\"width:600px;\"/>"
   ]
  },
  {
   "cell_type": "markdown",
   "id": "9e4e6d5d-bfa6-4800-a48f-d8a131cd9e69",
   "metadata": {},
   "source": [
    "## >> Propiedades del dinero sólido y porque lo llamamos así! "
   ]
  },
  {
   "cell_type": "markdown",
   "id": "773ef337-942b-4039-8798-017108f38ed0",
   "metadata": {},
   "source": [
    "A continuación vamos a estudiar las propiedades del dinero sólido, muchas de ellas tienen preguntas que podrás contestar, ¿estás listo?"
   ]
  },
  {
   "cell_type": "markdown",
   "id": "0f15289e-8e29-4d94-a1ca-572ad968a9e8",
   "metadata": {},
   "source": [
    "#### La primera de las propiedades de las que queremos conversar es **Portabilidad**"
   ]
  },
  {
   "cell_type": "markdown",
   "id": "8da49a15-7e9f-47c7-9da5-5852553704bc",
   "metadata": {},
   "source": [
    "<img src=\"images/bloque_genesis/portabilidad.jpg\" style=\"width:600px;\"/>"
   ]
  },
  {
   "cell_type": "markdown",
   "id": "34ca5860-166d-4480-bb28-c4fc7dbff619",
   "metadata": {},
   "source": [
    "¿Qué te parecería poder llevar tu riqueza de un lugar a otro sin que nadie lo supiera?\n",
    "¿Sabías que hay un límite para el dinero que puedes llevar cuando viajas y sales de un país?\n",
    "¿Podrías llevar tú solo, sin ayuda de nadie, miles de toneladas de oro desde tu casa a la escuela?\n",
    "\n",
    "La portabilidad es una función muy importante del dinero sólido, debemos ser capaces de poder llevar nuestras riquezas a donde queramos y de manera segura sin el riesgo de perder nuestro dinero."
   ]
  },
  {
   "cell_type": "markdown",
   "id": "4f30b412-ce16-42cd-8fc6-ae23de9edcfc",
   "metadata": {},
   "source": [
    "#### Dividir una pizza no la hace más abundante, ¿cierto?, veamos este ejemplo con la propiedad de **Divisibilidad**"
   ]
  },
  {
   "cell_type": "markdown",
   "id": "372e59c1-f9f9-48f3-87c5-298ea61ce473",
   "metadata": {},
   "source": [
    "<img src=\"images/bloque_genesis/divisibilidad.jpg\" style=\"width:600px;\"/>"
   ]
  },
  {
   "cell_type": "markdown",
   "id": "d2408425-d49b-4b9e-92c1-a1797fa1cb81",
   "metadata": {},
   "source": [
    "La divisibilidad es una propiedad muy divertida y útil del dinero, imagina tienes una pizza aún sin cortar, y vienen 3 amigos a cenar a casa, aunque sigue siendo la misma pizza, ahora puedes dividirla en 4 porciones para tus tres amigos y tú, pero, sin previo aviso, tienes la visita de 4 amigos más! y esta se vuelve una noche de pizza entre amigos, podrías cortar la pizza fácilmente en 8 porciones para compartir, del mismo modo, el dinero puede ser dividido en partes más pequeñas para poder intercambiar bienes o servicios.\n",
    "un ejemplo es un billete de una denominación alta, que al pagar un bien o servicio el mercader te dará cambio en billetes y probablemente monedas de una denominación menor.\n",
    "Un ejemplo claro es Bitcoin que se subdivide en 100 millones de unidades llamadas Satoshis en honor al creador de Bitcoin."
   ]
  },
  {
   "cell_type": "markdown",
   "id": "f961c87b-9924-4c35-ac37-3df1b9f47b53",
   "metadata": {},
   "source": [
    "#### Otra de las propiedades que queremos compartir contigo es **Durabilidad**"
   ]
  },
  {
   "cell_type": "markdown",
   "id": "d35127e1-656b-4696-b9cd-27a5bb755d21",
   "metadata": {},
   "source": [
    "<img src=\"images/bloque_genesis/durabilidad_dinero.png\" style=\"width:600px;\"/>"
   ]
  },
  {
   "cell_type": "code",
   "execution_count": null,
   "id": "a78e7f18-df78-4000-8231-9543cfbc7866",
   "metadata": {},
   "outputs": [],
   "source": [
    "print(\"¿Si pudiera vender tu casa, aceptarías un millon de manzanas por ella?\")\n",
    "respuesta_durabilidad = int(input(\"¿Qué te parece más seguro para mantener tu riqueza a largo plazo: una casa de ladrillo o un gran saco de manzanas? \\n Responde 0 = Casa ó 1 = manzanas\"))\n",
    "mensaje = \"Exacto! de nuevo una respuesta correcta! estás en una buena racha! una casa de ladrillos tiene una mayor durabilidad que un enorme saco de manzanas\" if respuesta_durabilidad < 1 else \"Probablemente te gusten mucho las manzanas, pero, un saco enorme de manzanas no durarán tanto tiempo, aun si las quisieras vender tendrías que encontrar a mucha gente dispuesta a comprarlas muy rápido antes que se arruinen\"\n",
    "print(mensaje)"
   ]
  },
  {
   "cell_type": "markdown",
   "id": "64052208-d525-4292-ae66-339cd4835c7c",
   "metadata": {},
   "source": [
    "#### Es la hora de estudiar un tema muy interesante: **Fungibilidad**"
   ]
  },
  {
   "cell_type": "markdown",
   "id": "b50879e7-39b5-4fee-be61-8193171e7895",
   "metadata": {},
   "source": [
    "<img src=\"images/bloque_genesis/fungibilidad.jpg\" style=\"width:600px;\"/>"
   ]
  },
  {
   "cell_type": "markdown",
   "id": "2e006ed1-adff-452e-beca-c61d4f04dfb7",
   "metadata": {},
   "source": [
    "Imagina que estás en un partido de baloncesto y tienes un tiro libre decisivo. Frente a ti hay dos balones idénticos. ¿Cuál elegirías? en esencia ambos son iguales, ¿cierto?, porque ambos te ofrecen las mismas posibilidades de encestar. Al igual que estos balones, los billetes de la misma denominación son intercambiables. No importa cuál uses para pagar, ya que ambos tienen el mismo valor."
   ]
  },
  {
   "cell_type": "markdown",
   "id": "45e335f5-1905-4b66-abdf-19760eb49187",
   "metadata": {},
   "source": [
    "#### Una de nuestras propiedades favoritas es la **escacez**, ¿sabes qué es?"
   ]
  },
  {
   "cell_type": "markdown",
   "id": "f31ee597-eb3a-4c22-9efb-240fc5e7d9b9",
   "metadata": {},
   "source": [
    "<img src=\"images/bloque_genesis/escacez_dinero.jpeg\" style=\"width:600px;\"/>"
   ]
  },
  {
   "cell_type": "code",
   "execution_count": null,
   "id": "9a29e86e-e1f3-496d-9451-0ae9d1317ab0",
   "metadata": {},
   "outputs": [],
   "source": [
    "print(\"Piensa un segundo en esto:\")\n",
    "print(\"Si todos tuvieramos la capacidad de imprimir dinero en casa, y todos decidieran hacerlo por su cuenta\")\n",
    "respuesta_dinero = int(input(\"¿Crees que eso le daría más valor al dinero? \\nRecuerda contesta 1 = Sí y 0 = No\"))\n",
    "mensaje = \"Exacto! si todos tuvieramos la oportunidad de imprimir más dinero, el dinero existente no tendría valor para nadie ya que todos tendrían la opción de imprimir su propio dinero, elegir un dinero que puede ser creado sin límites es muy mala idea, \\n¿No te parece?\" if respuesta_dinero < 1 else \"Imprimir dinero solo crea inflación lo que hace que todo sea más caro, por lo tanto le resta valor al dinero que usamos y haría que las cosas fueran más difíciles de adquirir\"\n",
    "print(mensaje)\n"
   ]
  },
  {
   "cell_type": "markdown",
   "id": "908a0164-e9bb-47ec-9784-d87aa6e3c3bb",
   "metadata": {},
   "source": [
    "#### La última propiedad del dinero que vamos a estudiar es: **Aceptabilidad**"
   ]
  },
  {
   "cell_type": "markdown",
   "id": "5273e9ea-e1f4-4c1d-a0ff-f58f8dabad69",
   "metadata": {},
   "source": [
    "<img src=\"images/bloque_genesis/aceptabilidad.jpg\" style=\"width:300px;\"/>"
   ]
  },
  {
   "cell_type": "markdown",
   "id": "4dbb4f1e-3f48-4e52-bedf-389bc14fd520",
   "metadata": {},
   "source": [
    "Imagina que en un planeta lejano la moneda local son galletas de sabor a naranja, y todo el mundo en planeta haría lo que fuera para obtener una galleta. Si quieres comprar una nave espacial debes acumular muchas galletas, y nadie se va a resistir a hacer un trato contigo.\n",
    "En el ejemplo anterior puedes apreciar que el valor de cada una de las galletas está estípulado por un acuerdo social, que son fácil de transportar, además de divisibles pero lamentablemente no son durables, sin embargo es un buen ejemplo de aceptabilidad en un mundo perfecto."
   ]
  },
  {
   "cell_type": "markdown",
   "id": "526add20-7abe-4092-8183-e30f5306b9f4",
   "metadata": {},
   "source": [
    "### Broken Money Video"
   ]
  },
  {
   "cell_type": "markdown",
   "id": "71959272-af1b-4850-9a84-28d2556144aa",
   "metadata": {},
   "source": [
    "<img src=\"images/bloque_genesis/broken_money.jpg\" style=\"width:600px;\"/>"
   ]
  },
  {
   "cell_type": "code",
   "execution_count": null,
   "id": "752171b7-8316-40d0-9b60-ab713f04020f",
   "metadata": {},
   "outputs": [],
   "source": [
    "from IPython.display import HTML\n",
    "\n",
    "url = \"https://youtu.be/jk_HWmmwiAs?si=9OGp_6xNlQELgrl-\"\n",
    "button = f\"\"\"\n",
    "<a href=\"{url}\" target=\"_blank\" style=\"display: inline-block; padding: 10px 20px; background-color: red; color: white; text-align: center; text-decoration: none; font-size: 16px; border-radius: 5px;\">Dinero Roto</a>\n",
    "\"\"\"\n",
    "\n",
    "HTML(button)"
   ]
  },
  {
   "cell_type": "markdown",
   "id": "32699022-379e-472b-921f-e8646673d25f",
   "metadata": {},
   "source": [
    "[Calculemos la inflación](https://www.dineroeneltiempo.com/inflacion/dolar/)"
   ]
  },
  {
   "cell_type": "markdown",
   "id": "cbd7160a-0595-4da0-8bc1-d42568f061ea",
   "metadata": {},
   "source": [
    "https://www.usdebtclock.org/"
   ]
  },
  {
   "cell_type": "markdown",
   "id": "88ee0f83-5223-4d54-93a9-a3bbb1599253",
   "metadata": {},
   "source": [
    "### Tuttle Twins"
   ]
  },
  {
   "cell_type": "markdown",
   "id": "4db172db-aa99-41df-bf64-ea20d098c591",
   "metadata": {},
   "source": [
    "<img src=\"images/bloque_genesis/tuttle.png\" style=\"width:600px;\"/>"
   ]
  },
  {
   "cell_type": "code",
   "execution_count": null,
   "id": "88cd34bc-35e9-406f-ab59-f791d78afb95",
   "metadata": {},
   "outputs": [],
   "source": [
    "from IPython.display import HTML\n",
    "\n",
    "url = \"https://www.angel.com/es/watch/tuttle-twins/episode/de46fca9-d387-47f5-b13f-ff336885518c\"\n",
    "button = f\"\"\"\n",
    "<a href=\"{url}\" target=\"_blank\" style=\"display: inline-block; padding: 10px 20px; background-color: navy; color: white; text-align: center; text-decoration: none; font-size: 16px; border-radius: 5px;\">Ver Episodio sobre Bitcoin</a>\n",
    "\"\"\"\n",
    "\n",
    "HTML(button)"
   ]
  },
  {
   "cell_type": "markdown",
   "id": "c3724c68-c884-44e3-80c1-96d6149b13f0",
   "metadata": {},
   "source": [
    "**NOTA FINAL DE BLOQUE**"
   ]
  },
  {
   "cell_type": "markdown",
   "id": "061f5693-d9f9-4034-bf36-da8a74662ea6",
   "metadata": {},
   "source": [
    "**Introducción a la Economía Austriaca**\n",
    "\n",
    "    Descubre la escuela austríaca de pensamiento económico. Estudia sus puntos de vista sobre la sociedad y las realidades macro/microeconómicas.\n",
    "\n",
    "*Haz clic en el botón Plan B Network para acceder al curso:*"
   ]
  },
  {
   "cell_type": "markdown",
   "id": "115c4e9a-5e2c-44c7-9b02-7b61286f6cfe",
   "metadata": {},
   "source": [
    "<a href=\"https://planb.network/es/courses/eco201\"><img src=\"images/pbn.jpg\" style=\"width:300px;\"/></a>"
   ]
  }
 ],
 "metadata": {
  "kernelspec": {
   "display_name": "Python 3 (ipykernel)",
   "language": "python",
   "name": "python3"
  },
  "language_info": {
   "codemirror_mode": {
    "name": "ipython",
    "version": 3
   },
   "file_extension": ".py",
   "mimetype": "text/x-python",
   "name": "python",
   "nbconvert_exporter": "python",
   "pygments_lexer": "ipython3",
   "version": "3.10.12"
  }
 },
 "nbformat": 4,
 "nbformat_minor": 5
}
